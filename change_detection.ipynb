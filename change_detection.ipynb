{
  "cells": [
    {
      "cell_type": "code",
      "execution_count": 1,
      "metadata": {
        "colab": {
          "base_uri": "https://localhost:8080/"
        },
        "id": "OdvBn0KMFgJO",
        "outputId": "0b6a5950-7049-4c2d-ea33-dff434872327"
      },
      "outputs": [],
      "source": [
        "# Imports\n",
        "\n",
        "# PyTorch\n",
        "import torch\n",
        "import torch.nn as nn\n",
        "from torch.utils.data import DataLoader\n",
        "from torch.autograd import Variable\n",
        "import torchvision.transforms as tr\n",
        "from model.change_detction_dataset import ChangeDetectionDataset, RandomFlip, RandomRot\n",
        "\n",
        "# Models\n",
        "from model.unet import Unet\n",
        "from model.siamunet_conc import SiamUnet_conc\n",
        "from model.siamunet_diff import SiamUnet_diff\n",
        "from model.fresunet import FresUNet\n",
        "from model.model import Model, ModelConfig\n",
        "\n",
        "# Other\n",
        "import numpy as np\n",
        "from skimage import io\n",
        "\n",
        "%matplotlib inline\n",
        "from tqdm import tqdm as tqdm\n",
        "import time\n",
        "import warnings\n",
        "from pprint import pprint\n"
      ]
    },
    {
      "cell_type": "code",
      "execution_count": 2,
      "metadata": {
        "colab": {
          "base_uri": "https://localhost:8080/"
        },
        "id": "134LZ1yhFgJR",
        "outputId": "aa18d84d-d235-4753-dff7-97581bca9d31"
      },
      "outputs": [],
      "source": [
        "# Global Variables' Definitions\n",
        "PATH_TO_DATASET = './dataset-lite/'\n",
        "MODEL_TYPE = 1 # 0-FC-EF | 1-FC-Siam-diff | 2-FC-Siam-conc | 3-FresUNet\n",
        "GPU_ENABLED = torch.cuda.is_available()\n",
        "LOAD_TRAINED = False\n",
        "\n",
        "\n",
        "#Cofniguration\n",
        "DATA_AUG = True\n",
        "BATCH_SIZE = 32\n",
        "PATCH_SIDE = 96\n",
        "N_EPOCHS = 50\n",
        "NORMALISE_IMGS = True\n",
        "TRAIN_STRIDE = int(PATCH_SIDE/2) - 1"
      ]
    },
    {
      "cell_type": "code",
      "execution_count": 3,
      "metadata": {
        "colab": {
          "base_uri": "https://localhost:8080/"
        },
        "id": "xRZI66fGFgJV",
        "outputId": "62c40c09-0518-4830-fa2d-0ddf76c69a93"
      },
      "outputs": [
        {
          "name": "stderr",
          "output_type": "stream",
          "text": [
            "499it [00:10, 49.27it/s]\n",
            "99it [00:03, 31.40it/s]\n"
          ]
        }
      ],
      "source": [
        "# Dataset\n",
        "if DATA_AUG:\n",
        "    data_transform = tr.Compose([RandomFlip(), RandomRot()])\n",
        "else:\n",
        "    data_transform = None\n",
        "\n",
        "\n",
        "train_dataset = ChangeDetectionDataset(PATH_TO_DATASET, train = True, stride = TRAIN_STRIDE, transform=data_transform)\n",
        "weights = torch.FloatTensor(train_dataset.weights)\n",
        "if GPU_ENABLED:\n",
        "  weights = weights.cuda()\n",
        "  \n",
        "train_loader = DataLoader(train_dataset, batch_size = BATCH_SIZE, shuffle = True, num_workers = 4)\n",
        "test_dataset = ChangeDetectionDataset(PATH_TO_DATASET, train = False, stride = TRAIN_STRIDE)\n",
        "test_loader = DataLoader(test_dataset, batch_size = BATCH_SIZE, shuffle = True, num_workers = 4)\n",
        "\n"
      ]
    },
    {
      "cell_type": "code",
      "execution_count": 4,
      "metadata": {
        "colab": {
          "base_uri": "https://localhost:8080/"
        },
        "id": "Lr88HmjBFgJX",
        "outputId": "e75bcb50-1495-4304-e803-d2ae3ecec792"
      },
      "outputs": [],
      "source": [
        "# 0-FC-EF | 1-FC-Siam-diff | 2-FC-Siam-conc | 3-FresUNet\n",
        "if MODEL_TYPE == 0:\n",
        "    net, net_name = Unet(2*3, 2), 'FC-EF'\n",
        "elif MODEL_TYPE == 1:\n",
        "    net, net_name = SiamUnet_diff(3, 2), 'FC-Siam-diff'\n",
        "elif MODEL_TYPE == 2:\n",
        "    net, net_name = SiamUnet_conc(3, 2), 'FC-Siam-conc'\n",
        "elif MODEL_TYPE == 3:\n",
        "    net, net_name = FresUNet(2*3, 2), 'FresUNet'\n",
        "\n",
        "if GPU_ENABLED:\n",
        "    net.cuda()\n",
        "\n",
        "criterion = nn.NLLLoss(weight=weights) # to be used with logsoftmax output"
      ]
    },
    {
      "cell_type": "code",
      "execution_count": 5,
      "metadata": {
        "colab": {
          "base_uri": "https://localhost:8080/"
        },
        "id": "6lE3ixBWFgJY",
        "outputId": "e0c0c462-c168-459c-b371-44a30a254cc4"
      },
      "outputs": [
        {
          "name": "stdout",
          "output_type": "stream",
          "text": [
            "Number of trainable parameters: 1350146\n"
          ]
        }
      ],
      "source": [
        "def count_parameters(model):\n",
        "    return sum(p.numel() for p in model.parameters() if p.requires_grad)\n",
        "\n",
        "print('Number of trainable parameters:', count_parameters(net))"
      ]
    },
    {
      "cell_type": "code",
      "execution_count": 6,
      "metadata": {
        "id": "QMIQufikFgJZ"
      },
      "outputs": [],
      "source": [
        "model_config = ModelConfig(n_epochs=N_EPOCHS, gpu_enabled=GPU_ENABLED)\n",
        "model = Model(\n",
        "    model=net,\n",
        "    model_name=net_name,\n",
        "    config=model_config,\n",
        "    train_dataset=train_dataset,\n",
        "    train_loader=train_loader,\n",
        "    test_dataset=test_dataset,\n",
        "    criterion=criterion,\n",
        ")"
      ]
    },
    {
      "cell_type": "code",
      "execution_count": 7,
      "metadata": {},
      "outputs": [
        {
          "name": "stderr",
          "output_type": "stream",
          "text": [
            "  0%|          | 0/50 [00:00<?, ?it/s]"
          ]
        },
        {
          "name": "stdout",
          "output_type": "stream",
          "text": [
            "Epoch: 1 of 50\n"
          ]
        },
        {
          "name": "stderr",
          "output_type": "stream",
          "text": [
            "  0%|          | 0/50 [00:06<?, ?it/s]\n"
          ]
        },
        {
          "ename": "KeyboardInterrupt",
          "evalue": "",
          "output_type": "error",
          "traceback": [
            "\u001b[1;31m---------------------------------------------------------------------------\u001b[0m",
            "\u001b[1;31mKeyboardInterrupt\u001b[0m                         Traceback (most recent call last)",
            "Cell \u001b[1;32mIn[7], line 6\u001b[0m\n\u001b[0;32m      4\u001b[0m \u001b[39melse\u001b[39;00m:\n\u001b[0;32m      5\u001b[0m     t_start \u001b[39m=\u001b[39m time\u001b[39m.\u001b[39mtime()\n\u001b[1;32m----> 6\u001b[0m     out_dic \u001b[39m=\u001b[39m model\u001b[39m.\u001b[39;49mtrain()\n\u001b[0;32m      7\u001b[0m     t_end \u001b[39m=\u001b[39m time\u001b[39m.\u001b[39mtime()\n\u001b[0;32m      8\u001b[0m     \u001b[39mprint\u001b[39m(out_dic)\n",
            "File \u001b[1;32me:\\Ly\\VT\\Courses\\ECE 5424 - Advanced Machine Learning\\Project\\Codebase\\S23-AML-Project\\model\\model.py:87\u001b[0m, in \u001b[0;36mModel.train\u001b[1;34m(self, save)\u001b[0m\n\u001b[0;32m     85\u001b[0m count \u001b[39m=\u001b[39m \u001b[39m1\u001b[39m\n\u001b[0;32m     86\u001b[0m \u001b[39mprint\u001b[39m(\u001b[39m\"\u001b[39m\u001b[39mEpoch: \u001b[39m\u001b[39m\"\u001b[39m \u001b[39m+\u001b[39m \u001b[39mstr\u001b[39m(epoch_index \u001b[39m+\u001b[39m \u001b[39m1\u001b[39m) \u001b[39m+\u001b[39m \u001b[39m\"\u001b[39m\u001b[39m of \u001b[39m\u001b[39m\"\u001b[39m \u001b[39m+\u001b[39m \u001b[39mstr\u001b[39m(\u001b[39mself\u001b[39m\u001b[39m.\u001b[39mconfig\u001b[39m.\u001b[39mn_epochs))\n\u001b[1;32m---> 87\u001b[0m \u001b[39mfor\u001b[39;00m batch \u001b[39min\u001b[39;00m tqdm(\u001b[39mself\u001b[39m\u001b[39m.\u001b[39mtrain_loader,position\u001b[39m=\u001b[39m\u001b[39m1\u001b[39m, leave\u001b[39m=\u001b[39m\u001b[39mFalse\u001b[39;00m):\n\u001b[0;32m     88\u001b[0m     \u001b[39mprint\u001b[39m(\u001b[39mf\u001b[39m\u001b[39m\"\u001b[39m\u001b[39mTraining: \u001b[39m\u001b[39m{\u001b[39;00mcount\u001b[39m}\u001b[39;00m\u001b[39m/ \u001b[39m\u001b[39m{\u001b[39;00mtrain_loader_len\u001b[39m}\u001b[39;00m\u001b[39m\"\u001b[39m)\n\u001b[0;32m     89\u001b[0m     I1 \u001b[39m=\u001b[39m Variable(batch[\u001b[39m\"\u001b[39m\u001b[39mI1\u001b[39m\u001b[39m\"\u001b[39m]\u001b[39m.\u001b[39mfloat())\n",
            "File \u001b[1;32me:\\Ly\\VT\\Courses\\ECE 5424 - Advanced Machine Learning\\Project\\Codebase\\S23-AML-Project\\venv\\lib\\site-packages\\tqdm\\std.py:1178\u001b[0m, in \u001b[0;36mtqdm.__iter__\u001b[1;34m(self)\u001b[0m\n\u001b[0;32m   1175\u001b[0m time \u001b[39m=\u001b[39m \u001b[39mself\u001b[39m\u001b[39m.\u001b[39m_time\n\u001b[0;32m   1177\u001b[0m \u001b[39mtry\u001b[39;00m:\n\u001b[1;32m-> 1178\u001b[0m     \u001b[39mfor\u001b[39;00m obj \u001b[39min\u001b[39;00m iterable:\n\u001b[0;32m   1179\u001b[0m         \u001b[39myield\u001b[39;00m obj\n\u001b[0;32m   1180\u001b[0m         \u001b[39m# Update and possibly print the progressbar.\u001b[39;00m\n\u001b[0;32m   1181\u001b[0m         \u001b[39m# Note: does not call self.update(1) for speed optimisation.\u001b[39;00m\n",
            "File \u001b[1;32me:\\Ly\\VT\\Courses\\ECE 5424 - Advanced Machine Learning\\Project\\Codebase\\S23-AML-Project\\venv\\lib\\site-packages\\torch\\utils\\data\\dataloader.py:442\u001b[0m, in \u001b[0;36mDataLoader.__iter__\u001b[1;34m(self)\u001b[0m\n\u001b[0;32m    440\u001b[0m     \u001b[39mreturn\u001b[39;00m \u001b[39mself\u001b[39m\u001b[39m.\u001b[39m_iterator\n\u001b[0;32m    441\u001b[0m \u001b[39melse\u001b[39;00m:\n\u001b[1;32m--> 442\u001b[0m     \u001b[39mreturn\u001b[39;00m \u001b[39mself\u001b[39;49m\u001b[39m.\u001b[39;49m_get_iterator()\n",
            "File \u001b[1;32me:\\Ly\\VT\\Courses\\ECE 5424 - Advanced Machine Learning\\Project\\Codebase\\S23-AML-Project\\venv\\lib\\site-packages\\torch\\utils\\data\\dataloader.py:388\u001b[0m, in \u001b[0;36mDataLoader._get_iterator\u001b[1;34m(self)\u001b[0m\n\u001b[0;32m    386\u001b[0m \u001b[39melse\u001b[39;00m:\n\u001b[0;32m    387\u001b[0m     \u001b[39mself\u001b[39m\u001b[39m.\u001b[39mcheck_worker_number_rationality()\n\u001b[1;32m--> 388\u001b[0m     \u001b[39mreturn\u001b[39;00m _MultiProcessingDataLoaderIter(\u001b[39mself\u001b[39;49m)\n",
            "File \u001b[1;32me:\\Ly\\VT\\Courses\\ECE 5424 - Advanced Machine Learning\\Project\\Codebase\\S23-AML-Project\\venv\\lib\\site-packages\\torch\\utils\\data\\dataloader.py:1043\u001b[0m, in \u001b[0;36m_MultiProcessingDataLoaderIter.__init__\u001b[1;34m(self, loader)\u001b[0m\n\u001b[0;32m   1036\u001b[0m w\u001b[39m.\u001b[39mdaemon \u001b[39m=\u001b[39m \u001b[39mTrue\u001b[39;00m\n\u001b[0;32m   1037\u001b[0m \u001b[39m# NB: Process.start() actually take some time as it needs to\u001b[39;00m\n\u001b[0;32m   1038\u001b[0m \u001b[39m#     start a process and pass the arguments over via a pipe.\u001b[39;00m\n\u001b[0;32m   1039\u001b[0m \u001b[39m#     Therefore, we only add a worker to self._workers list after\u001b[39;00m\n\u001b[0;32m   1040\u001b[0m \u001b[39m#     it started, so that we do not call .join() if program dies\u001b[39;00m\n\u001b[0;32m   1041\u001b[0m \u001b[39m#     before it starts, and __del__ tries to join but will get:\u001b[39;00m\n\u001b[0;32m   1042\u001b[0m \u001b[39m#     AssertionError: can only join a started process.\u001b[39;00m\n\u001b[1;32m-> 1043\u001b[0m w\u001b[39m.\u001b[39;49mstart()\n\u001b[0;32m   1044\u001b[0m \u001b[39mself\u001b[39m\u001b[39m.\u001b[39m_index_queues\u001b[39m.\u001b[39mappend(index_queue)\n\u001b[0;32m   1045\u001b[0m \u001b[39mself\u001b[39m\u001b[39m.\u001b[39m_workers\u001b[39m.\u001b[39mappend(w)\n",
            "File \u001b[1;32mC:\\Program Files\\Python39\\lib\\multiprocessing\\process.py:121\u001b[0m, in \u001b[0;36mBaseProcess.start\u001b[1;34m(self)\u001b[0m\n\u001b[0;32m    118\u001b[0m \u001b[39massert\u001b[39;00m \u001b[39mnot\u001b[39;00m _current_process\u001b[39m.\u001b[39m_config\u001b[39m.\u001b[39mget(\u001b[39m'\u001b[39m\u001b[39mdaemon\u001b[39m\u001b[39m'\u001b[39m), \\\n\u001b[0;32m    119\u001b[0m        \u001b[39m'\u001b[39m\u001b[39mdaemonic processes are not allowed to have children\u001b[39m\u001b[39m'\u001b[39m\n\u001b[0;32m    120\u001b[0m _cleanup()\n\u001b[1;32m--> 121\u001b[0m \u001b[39mself\u001b[39m\u001b[39m.\u001b[39m_popen \u001b[39m=\u001b[39m \u001b[39mself\u001b[39;49m\u001b[39m.\u001b[39;49m_Popen(\u001b[39mself\u001b[39;49m)\n\u001b[0;32m    122\u001b[0m \u001b[39mself\u001b[39m\u001b[39m.\u001b[39m_sentinel \u001b[39m=\u001b[39m \u001b[39mself\u001b[39m\u001b[39m.\u001b[39m_popen\u001b[39m.\u001b[39msentinel\n\u001b[0;32m    123\u001b[0m \u001b[39m# Avoid a refcycle if the target function holds an indirect\u001b[39;00m\n\u001b[0;32m    124\u001b[0m \u001b[39m# reference to the process object (see bpo-30775)\u001b[39;00m\n",
            "File \u001b[1;32mC:\\Program Files\\Python39\\lib\\multiprocessing\\context.py:224\u001b[0m, in \u001b[0;36mProcess._Popen\u001b[1;34m(process_obj)\u001b[0m\n\u001b[0;32m    222\u001b[0m \u001b[39m@staticmethod\u001b[39m\n\u001b[0;32m    223\u001b[0m \u001b[39mdef\u001b[39;00m \u001b[39m_Popen\u001b[39m(process_obj):\n\u001b[1;32m--> 224\u001b[0m     \u001b[39mreturn\u001b[39;00m _default_context\u001b[39m.\u001b[39;49mget_context()\u001b[39m.\u001b[39;49mProcess\u001b[39m.\u001b[39;49m_Popen(process_obj)\n",
            "File \u001b[1;32mC:\\Program Files\\Python39\\lib\\multiprocessing\\context.py:327\u001b[0m, in \u001b[0;36mSpawnProcess._Popen\u001b[1;34m(process_obj)\u001b[0m\n\u001b[0;32m    324\u001b[0m \u001b[39m@staticmethod\u001b[39m\n\u001b[0;32m    325\u001b[0m \u001b[39mdef\u001b[39;00m \u001b[39m_Popen\u001b[39m(process_obj):\n\u001b[0;32m    326\u001b[0m     \u001b[39mfrom\u001b[39;00m \u001b[39m.\u001b[39;00m\u001b[39mpopen_spawn_win32\u001b[39;00m \u001b[39mimport\u001b[39;00m Popen\n\u001b[1;32m--> 327\u001b[0m     \u001b[39mreturn\u001b[39;00m Popen(process_obj)\n",
            "File \u001b[1;32mC:\\Program Files\\Python39\\lib\\multiprocessing\\popen_spawn_win32.py:93\u001b[0m, in \u001b[0;36mPopen.__init__\u001b[1;34m(self, process_obj)\u001b[0m\n\u001b[0;32m     91\u001b[0m \u001b[39mtry\u001b[39;00m:\n\u001b[0;32m     92\u001b[0m     reduction\u001b[39m.\u001b[39mdump(prep_data, to_child)\n\u001b[1;32m---> 93\u001b[0m     reduction\u001b[39m.\u001b[39;49mdump(process_obj, to_child)\n\u001b[0;32m     94\u001b[0m \u001b[39mfinally\u001b[39;00m:\n\u001b[0;32m     95\u001b[0m     set_spawning_popen(\u001b[39mNone\u001b[39;00m)\n",
            "File \u001b[1;32mC:\\Program Files\\Python39\\lib\\multiprocessing\\reduction.py:60\u001b[0m, in \u001b[0;36mdump\u001b[1;34m(obj, file, protocol)\u001b[0m\n\u001b[0;32m     58\u001b[0m \u001b[39mdef\u001b[39;00m \u001b[39mdump\u001b[39m(obj, file, protocol\u001b[39m=\u001b[39m\u001b[39mNone\u001b[39;00m):\n\u001b[0;32m     59\u001b[0m \u001b[39m    \u001b[39m\u001b[39m'''Replacement for pickle.dump() using ForkingPickler.'''\u001b[39;00m\n\u001b[1;32m---> 60\u001b[0m     ForkingPickler(file, protocol)\u001b[39m.\u001b[39;49mdump(obj)\n",
            "\u001b[1;31mKeyboardInterrupt\u001b[0m: "
          ]
        },
        {
          "data": {
            "text/plain": [
              "<Figure size 640x480 with 0 Axes>"
            ]
          },
          "metadata": {},
          "output_type": "display_data"
        },
        {
          "data": {
            "text/plain": [
              "<Figure size 640x480 with 0 Axes>"
            ]
          },
          "metadata": {},
          "output_type": "display_data"
        },
        {
          "data": {
            "text/plain": [
              "<Figure size 640x480 with 0 Axes>"
            ]
          },
          "metadata": {},
          "output_type": "display_data"
        }
      ],
      "source": [
        "if LOAD_TRAINED:\n",
        "    net.load_state_dict(torch.load('net_final.pth.tar'))\n",
        "    print('LOAD OK')\n",
        "else:\n",
        "    t_start = time.time()\n",
        "    out_dic = model.train()\n",
        "    t_end = time.time()\n",
        "    print(out_dic)\n",
        "    print('Elapsed time:')\n",
        "    print(t_end - t_start)"
      ]
    },
    {
      "cell_type": "code",
      "execution_count": null,
      "metadata": {
        "id": "f77Nz5HPFgJa"
      },
      "outputs": [],
      "source": [
        "if not LOAD_TRAINED:\n",
        "    torch.save(model.model.state_dict(), 'net_final.pth.tar')\n",
        "    print('SAVE OK')"
      ]
    },
    {
      "cell_type": "code",
      "execution_count": null,
      "metadata": {
        "id": "lpK78RwyFgJb"
      },
      "outputs": [
        {
          "name": "stderr",
          "output_type": "stream",
          "text": [
            "0it [00:00, ?it/s]/var/folders/t6/ntsczqdj1036typ96jgly34m0000gn/T/ipykernel_63371/3708903272.py:17: UserWarning: FC-Siam-diff-test00001.png.png is a low contrast image\n",
            "  io.imsave(f'{net_name}-{name}.png',I)\n",
            "Lossy conversion from int64 to uint8. Range [0, 255]. Convert image to uint8 prior to saving to suppress this warning.\n",
            "1it [00:00,  5.72it/s]/var/folders/t6/ntsczqdj1036typ96jgly34m0000gn/T/ipykernel_63371/3708903272.py:17: UserWarning: FC-Siam-diff-test00002.png.png is a low contrast image\n",
            "  io.imsave(f'{net_name}-{name}.png',I)\n",
            "Lossy conversion from int64 to uint8. Range [0, 255]. Convert image to uint8 prior to saving to suppress this warning.\n",
            "2it [00:00,  5.65it/s]/var/folders/t6/ntsczqdj1036typ96jgly34m0000gn/T/ipykernel_63371/3708903272.py:17: UserWarning: FC-Siam-diff-test00003.png.png is a low contrast image\n",
            "  io.imsave(f'{net_name}-{name}.png',I)\n",
            "Lossy conversion from int64 to uint8. Range [0, 255]. Convert image to uint8 prior to saving to suppress this warning.\n",
            "3it [00:00,  6.49it/s]/var/folders/t6/ntsczqdj1036typ96jgly34m0000gn/T/ipykernel_63371/3708903272.py:17: UserWarning: FC-Siam-diff-test00004.png.png is a low contrast image\n",
            "  io.imsave(f'{net_name}-{name}.png',I)\n",
            "Lossy conversion from int64 to uint8. Range [0, 255]. Convert image to uint8 prior to saving to suppress this warning.\n",
            "4it [00:00,  6.44it/s]/var/folders/t6/ntsczqdj1036typ96jgly34m0000gn/T/ipykernel_63371/3708903272.py:17: UserWarning: FC-Siam-diff-test00005.png.png is a low contrast image\n",
            "  io.imsave(f'{net_name}-{name}.png',I)\n",
            "Lossy conversion from int64 to uint8. Range [0, 255]. Convert image to uint8 prior to saving to suppress this warning.\n",
            "5it [00:00,  6.62it/s]/var/folders/t6/ntsczqdj1036typ96jgly34m0000gn/T/ipykernel_63371/3708903272.py:17: UserWarning: FC-Siam-diff-test00006.png.png is a low contrast image\n",
            "  io.imsave(f'{net_name}-{name}.png',I)\n",
            "Lossy conversion from int64 to uint8. Range [0, 255]. Convert image to uint8 prior to saving to suppress this warning.\n",
            "6it [00:00,  6.56it/s]/var/folders/t6/ntsczqdj1036typ96jgly34m0000gn/T/ipykernel_63371/3708903272.py:17: UserWarning: FC-Siam-diff-test00007.png.png is a low contrast image\n",
            "  io.imsave(f'{net_name}-{name}.png',I)\n",
            "Lossy conversion from int64 to uint8. Range [0, 255]. Convert image to uint8 prior to saving to suppress this warning.\n",
            "7it [00:01,  6.80it/s]/var/folders/t6/ntsczqdj1036typ96jgly34m0000gn/T/ipykernel_63371/3708903272.py:17: UserWarning: FC-Siam-diff-test00008.png.png is a low contrast image\n",
            "  io.imsave(f'{net_name}-{name}.png',I)\n",
            "Lossy conversion from int64 to uint8. Range [0, 255]. Convert image to uint8 prior to saving to suppress this warning.\n",
            "8it [00:01,  7.02it/s]/var/folders/t6/ntsczqdj1036typ96jgly34m0000gn/T/ipykernel_63371/3708903272.py:17: UserWarning: FC-Siam-diff-test00009.png.png is a low contrast image\n",
            "  io.imsave(f'{net_name}-{name}.png',I)\n",
            "Lossy conversion from int64 to uint8. Range [0, 255]. Convert image to uint8 prior to saving to suppress this warning.\n",
            "9it [00:01,  6.94it/s]/var/folders/t6/ntsczqdj1036typ96jgly34m0000gn/T/ipykernel_63371/3708903272.py:17: UserWarning: FC-Siam-diff-test00010.png.png is a low contrast image\n",
            "  io.imsave(f'{net_name}-{name}.png',I)\n",
            "Lossy conversion from int64 to uint8. Range [0, 255]. Convert image to uint8 prior to saving to suppress this warning.\n",
            "10it [00:01,  6.88it/s]/var/folders/t6/ntsczqdj1036typ96jgly34m0000gn/T/ipykernel_63371/3708903272.py:17: UserWarning: FC-Siam-diff-test00011.png.png is a low contrast image\n",
            "  io.imsave(f'{net_name}-{name}.png',I)\n",
            "Lossy conversion from int64 to uint8. Range [0, 255]. Convert image to uint8 prior to saving to suppress this warning.\n",
            "11it [00:01,  6.71it/s]/var/folders/t6/ntsczqdj1036typ96jgly34m0000gn/T/ipykernel_63371/3708903272.py:17: UserWarning: FC-Siam-diff-test00012.png.png is a low contrast image\n",
            "  io.imsave(f'{net_name}-{name}.png',I)\n",
            "Lossy conversion from int64 to uint8. Range [0, 255]. Convert image to uint8 prior to saving to suppress this warning.\n",
            "12it [00:01,  7.03it/s]/var/folders/t6/ntsczqdj1036typ96jgly34m0000gn/T/ipykernel_63371/3708903272.py:17: UserWarning: FC-Siam-diff-test00013.png.png is a low contrast image\n",
            "  io.imsave(f'{net_name}-{name}.png',I)\n",
            "Lossy conversion from int64 to uint8. Range [0, 255]. Convert image to uint8 prior to saving to suppress this warning.\n",
            "13it [00:01,  6.86it/s]/var/folders/t6/ntsczqdj1036typ96jgly34m0000gn/T/ipykernel_63371/3708903272.py:17: UserWarning: FC-Siam-diff-test00014.png.png is a low contrast image\n",
            "  io.imsave(f'{net_name}-{name}.png',I)\n",
            "Lossy conversion from int64 to uint8. Range [0, 255]. Convert image to uint8 prior to saving to suppress this warning.\n",
            "14it [00:02,  6.79it/s]/var/folders/t6/ntsczqdj1036typ96jgly34m0000gn/T/ipykernel_63371/3708903272.py:17: UserWarning: FC-Siam-diff-test00015.png.png is a low contrast image\n",
            "  io.imsave(f'{net_name}-{name}.png',I)\n",
            "Lossy conversion from int64 to uint8. Range [0, 255]. Convert image to uint8 prior to saving to suppress this warning.\n",
            "15it [00:02,  6.04it/s]/var/folders/t6/ntsczqdj1036typ96jgly34m0000gn/T/ipykernel_63371/3708903272.py:17: UserWarning: FC-Siam-diff-test00016.png.png is a low contrast image\n",
            "  io.imsave(f'{net_name}-{name}.png',I)\n",
            "Lossy conversion from int64 to uint8. Range [0, 255]. Convert image to uint8 prior to saving to suppress this warning.\n",
            "16it [00:02,  6.47it/s]/var/folders/t6/ntsczqdj1036typ96jgly34m0000gn/T/ipykernel_63371/3708903272.py:17: UserWarning: FC-Siam-diff-test00017.png.png is a low contrast image\n",
            "  io.imsave(f'{net_name}-{name}.png',I)\n",
            "Lossy conversion from int64 to uint8. Range [0, 255]. Convert image to uint8 prior to saving to suppress this warning.\n",
            "17it [00:02,  6.78it/s]/var/folders/t6/ntsczqdj1036typ96jgly34m0000gn/T/ipykernel_63371/3708903272.py:17: UserWarning: FC-Siam-diff-test00018.png.png is a low contrast image\n",
            "  io.imsave(f'{net_name}-{name}.png',I)\n",
            "Lossy conversion from int64 to uint8. Range [0, 255]. Convert image to uint8 prior to saving to suppress this warning.\n",
            "18it [00:02,  6.97it/s]/var/folders/t6/ntsczqdj1036typ96jgly34m0000gn/T/ipykernel_63371/3708903272.py:17: UserWarning: FC-Siam-diff-test00019.png.png is a low contrast image\n",
            "  io.imsave(f'{net_name}-{name}.png',I)\n",
            "Lossy conversion from int64 to uint8. Range [0, 255]. Convert image to uint8 prior to saving to suppress this warning.\n",
            "19it [00:02,  6.92it/s]/var/folders/t6/ntsczqdj1036typ96jgly34m0000gn/T/ipykernel_63371/3708903272.py:17: UserWarning: FC-Siam-diff-test00020.png.png is a low contrast image\n",
            "  io.imsave(f'{net_name}-{name}.png',I)\n",
            "Lossy conversion from int64 to uint8. Range [0, 255]. Convert image to uint8 prior to saving to suppress this warning.\n",
            "20it [00:02,  6.76it/s]/var/folders/t6/ntsczqdj1036typ96jgly34m0000gn/T/ipykernel_63371/3708903272.py:17: UserWarning: FC-Siam-diff-test00021.png.png is a low contrast image\n",
            "  io.imsave(f'{net_name}-{name}.png',I)\n",
            "Lossy conversion from int64 to uint8. Range [0, 255]. Convert image to uint8 prior to saving to suppress this warning.\n",
            "21it [00:03,  6.92it/s]/var/folders/t6/ntsczqdj1036typ96jgly34m0000gn/T/ipykernel_63371/3708903272.py:17: UserWarning: FC-Siam-diff-test00022.png.png is a low contrast image\n",
            "  io.imsave(f'{net_name}-{name}.png',I)\n",
            "Lossy conversion from int64 to uint8. Range [0, 255]. Convert image to uint8 prior to saving to suppress this warning.\n",
            "22it [00:03,  7.10it/s]/var/folders/t6/ntsczqdj1036typ96jgly34m0000gn/T/ipykernel_63371/3708903272.py:17: UserWarning: FC-Siam-diff-test00023.png.png is a low contrast image\n",
            "  io.imsave(f'{net_name}-{name}.png',I)\n",
            "Lossy conversion from int64 to uint8. Range [0, 255]. Convert image to uint8 prior to saving to suppress this warning.\n",
            "23it [00:03,  7.33it/s]/var/folders/t6/ntsczqdj1036typ96jgly34m0000gn/T/ipykernel_63371/3708903272.py:17: UserWarning: FC-Siam-diff-test00024.png.png is a low contrast image\n",
            "  io.imsave(f'{net_name}-{name}.png',I)\n",
            "Lossy conversion from int64 to uint8. Range [0, 255]. Convert image to uint8 prior to saving to suppress this warning.\n",
            "24it [00:03,  7.21it/s]/var/folders/t6/ntsczqdj1036typ96jgly34m0000gn/T/ipykernel_63371/3708903272.py:17: UserWarning: FC-Siam-diff-test00025.png.png is a low contrast image\n",
            "  io.imsave(f'{net_name}-{name}.png',I)\n",
            "Lossy conversion from int64 to uint8. Range [0, 255]. Convert image to uint8 prior to saving to suppress this warning.\n",
            "25it [00:03,  7.39it/s]/var/folders/t6/ntsczqdj1036typ96jgly34m0000gn/T/ipykernel_63371/3708903272.py:17: UserWarning: FC-Siam-diff-test00026.png.png is a low contrast image\n",
            "  io.imsave(f'{net_name}-{name}.png',I)\n",
            "Lossy conversion from int64 to uint8. Range [0, 255]. Convert image to uint8 prior to saving to suppress this warning.\n",
            "26it [00:03,  7.21it/s]/var/folders/t6/ntsczqdj1036typ96jgly34m0000gn/T/ipykernel_63371/3708903272.py:17: UserWarning: FC-Siam-diff-test00027.png.png is a low contrast image\n",
            "  io.imsave(f'{net_name}-{name}.png',I)\n",
            "Lossy conversion from int64 to uint8. Range [0, 255]. Convert image to uint8 prior to saving to suppress this warning.\n",
            "27it [00:03,  7.09it/s]/var/folders/t6/ntsczqdj1036typ96jgly34m0000gn/T/ipykernel_63371/3708903272.py:17: UserWarning: FC-Siam-diff-test00028.png.png is a low contrast image\n",
            "  io.imsave(f'{net_name}-{name}.png',I)\n",
            "Lossy conversion from int64 to uint8. Range [0, 255]. Convert image to uint8 prior to saving to suppress this warning.\n",
            "28it [00:04,  6.98it/s]/var/folders/t6/ntsczqdj1036typ96jgly34m0000gn/T/ipykernel_63371/3708903272.py:17: UserWarning: FC-Siam-diff-test00029.png.png is a low contrast image\n",
            "  io.imsave(f'{net_name}-{name}.png',I)\n",
            "Lossy conversion from int64 to uint8. Range [0, 255]. Convert image to uint8 prior to saving to suppress this warning.\n",
            "29it [00:04,  6.82it/s]/var/folders/t6/ntsczqdj1036typ96jgly34m0000gn/T/ipykernel_63371/3708903272.py:17: UserWarning: FC-Siam-diff-test00030.png.png is a low contrast image\n",
            "  io.imsave(f'{net_name}-{name}.png',I)\n",
            "Lossy conversion from int64 to uint8. Range [0, 255]. Convert image to uint8 prior to saving to suppress this warning.\n",
            "30it [00:04,  6.98it/s]/var/folders/t6/ntsczqdj1036typ96jgly34m0000gn/T/ipykernel_63371/3708903272.py:17: UserWarning: FC-Siam-diff-test00031.png.png is a low contrast image\n",
            "  io.imsave(f'{net_name}-{name}.png',I)\n",
            "Lossy conversion from int64 to uint8. Range [0, 255]. Convert image to uint8 prior to saving to suppress this warning.\n",
            "31it [00:04,  7.03it/s]/var/folders/t6/ntsczqdj1036typ96jgly34m0000gn/T/ipykernel_63371/3708903272.py:17: UserWarning: FC-Siam-diff-test00032.png.png is a low contrast image\n",
            "  io.imsave(f'{net_name}-{name}.png',I)\n",
            "Lossy conversion from int64 to uint8. Range [0, 255]. Convert image to uint8 prior to saving to suppress this warning.\n",
            "32it [00:04,  6.76it/s]/var/folders/t6/ntsczqdj1036typ96jgly34m0000gn/T/ipykernel_63371/3708903272.py:17: UserWarning: FC-Siam-diff-test00033.png.png is a low contrast image\n",
            "  io.imsave(f'{net_name}-{name}.png',I)\n",
            "Lossy conversion from int64 to uint8. Range [0, 255]. Convert image to uint8 prior to saving to suppress this warning.\n",
            "33it [00:04,  7.02it/s]/var/folders/t6/ntsczqdj1036typ96jgly34m0000gn/T/ipykernel_63371/3708903272.py:17: UserWarning: FC-Siam-diff-test00034.png.png is a low contrast image\n",
            "  io.imsave(f'{net_name}-{name}.png',I)\n",
            "Lossy conversion from int64 to uint8. Range [0, 255]. Convert image to uint8 prior to saving to suppress this warning.\n",
            "34it [00:04,  6.87it/s]/var/folders/t6/ntsczqdj1036typ96jgly34m0000gn/T/ipykernel_63371/3708903272.py:17: UserWarning: FC-Siam-diff-test00035.png.png is a low contrast image\n",
            "  io.imsave(f'{net_name}-{name}.png',I)\n",
            "Lossy conversion from int64 to uint8. Range [0, 255]. Convert image to uint8 prior to saving to suppress this warning.\n",
            "35it [00:05,  7.09it/s]/var/folders/t6/ntsczqdj1036typ96jgly34m0000gn/T/ipykernel_63371/3708903272.py:17: UserWarning: FC-Siam-diff-test00036.png.png is a low contrast image\n",
            "  io.imsave(f'{net_name}-{name}.png',I)\n",
            "Lossy conversion from int64 to uint8. Range [0, 255]. Convert image to uint8 prior to saving to suppress this warning.\n",
            "36it [00:05,  7.19it/s]/var/folders/t6/ntsczqdj1036typ96jgly34m0000gn/T/ipykernel_63371/3708903272.py:17: UserWarning: FC-Siam-diff-test00037.png.png is a low contrast image\n",
            "  io.imsave(f'{net_name}-{name}.png',I)\n",
            "Lossy conversion from int64 to uint8. Range [0, 255]. Convert image to uint8 prior to saving to suppress this warning.\n",
            "37it [00:05,  7.00it/s]/var/folders/t6/ntsczqdj1036typ96jgly34m0000gn/T/ipykernel_63371/3708903272.py:17: UserWarning: FC-Siam-diff-test00038.png.png is a low contrast image\n",
            "  io.imsave(f'{net_name}-{name}.png',I)\n",
            "Lossy conversion from int64 to uint8. Range [0, 255]. Convert image to uint8 prior to saving to suppress this warning.\n",
            "38it [00:05,  7.01it/s]/var/folders/t6/ntsczqdj1036typ96jgly34m0000gn/T/ipykernel_63371/3708903272.py:17: UserWarning: FC-Siam-diff-test00039.png.png is a low contrast image\n",
            "  io.imsave(f'{net_name}-{name}.png',I)\n",
            "Lossy conversion from int64 to uint8. Range [0, 255]. Convert image to uint8 prior to saving to suppress this warning.\n",
            "39it [00:05,  7.20it/s]/var/folders/t6/ntsczqdj1036typ96jgly34m0000gn/T/ipykernel_63371/3708903272.py:17: UserWarning: FC-Siam-diff-test00040.png.png is a low contrast image\n",
            "  io.imsave(f'{net_name}-{name}.png',I)\n",
            "Lossy conversion from int64 to uint8. Range [0, 255]. Convert image to uint8 prior to saving to suppress this warning.\n",
            "40it [00:05,  7.12it/s]/var/folders/t6/ntsczqdj1036typ96jgly34m0000gn/T/ipykernel_63371/3708903272.py:17: UserWarning: FC-Siam-diff-test00041.png.png is a low contrast image\n",
            "  io.imsave(f'{net_name}-{name}.png',I)\n",
            "Lossy conversion from int64 to uint8. Range [0, 255]. Convert image to uint8 prior to saving to suppress this warning.\n",
            "41it [00:06,  6.12it/s]/var/folders/t6/ntsczqdj1036typ96jgly34m0000gn/T/ipykernel_63371/3708903272.py:17: UserWarning: FC-Siam-diff-test00042.png.png is a low contrast image\n",
            "  io.imsave(f'{net_name}-{name}.png',I)\n",
            "Lossy conversion from int64 to uint8. Range [0, 255]. Convert image to uint8 prior to saving to suppress this warning.\n",
            "42it [00:06,  6.22it/s]/var/folders/t6/ntsczqdj1036typ96jgly34m0000gn/T/ipykernel_63371/3708903272.py:17: UserWarning: FC-Siam-diff-test00043.png.png is a low contrast image\n",
            "  io.imsave(f'{net_name}-{name}.png',I)\n",
            "Lossy conversion from int64 to uint8. Range [0, 255]. Convert image to uint8 prior to saving to suppress this warning.\n",
            "43it [00:06,  6.50it/s]/var/folders/t6/ntsczqdj1036typ96jgly34m0000gn/T/ipykernel_63371/3708903272.py:17: UserWarning: FC-Siam-diff-test00044.png.png is a low contrast image\n",
            "  io.imsave(f'{net_name}-{name}.png',I)\n",
            "Lossy conversion from int64 to uint8. Range [0, 255]. Convert image to uint8 prior to saving to suppress this warning.\n",
            "44it [00:06,  6.67it/s]/var/folders/t6/ntsczqdj1036typ96jgly34m0000gn/T/ipykernel_63371/3708903272.py:17: UserWarning: FC-Siam-diff-test00045.png.png is a low contrast image\n",
            "  io.imsave(f'{net_name}-{name}.png',I)\n",
            "Lossy conversion from int64 to uint8. Range [0, 255]. Convert image to uint8 prior to saving to suppress this warning.\n",
            "45it [00:06,  6.82it/s]/var/folders/t6/ntsczqdj1036typ96jgly34m0000gn/T/ipykernel_63371/3708903272.py:17: UserWarning: FC-Siam-diff-test00046.png.png is a low contrast image\n",
            "  io.imsave(f'{net_name}-{name}.png',I)\n",
            "Lossy conversion from int64 to uint8. Range [0, 255]. Convert image to uint8 prior to saving to suppress this warning.\n",
            "46it [00:06,  6.83it/s]/var/folders/t6/ntsczqdj1036typ96jgly34m0000gn/T/ipykernel_63371/3708903272.py:17: UserWarning: FC-Siam-diff-test00047.png.png is a low contrast image\n",
            "  io.imsave(f'{net_name}-{name}.png',I)\n",
            "Lossy conversion from int64 to uint8. Range [0, 255]. Convert image to uint8 prior to saving to suppress this warning.\n",
            "47it [00:06,  6.92it/s]/var/folders/t6/ntsczqdj1036typ96jgly34m0000gn/T/ipykernel_63371/3708903272.py:17: UserWarning: FC-Siam-diff-test00048.png.png is a low contrast image\n",
            "  io.imsave(f'{net_name}-{name}.png',I)\n",
            "Lossy conversion from int64 to uint8. Range [0, 255]. Convert image to uint8 prior to saving to suppress this warning.\n",
            "48it [00:07,  7.08it/s]/var/folders/t6/ntsczqdj1036typ96jgly34m0000gn/T/ipykernel_63371/3708903272.py:17: UserWarning: FC-Siam-diff-test00049.png.png is a low contrast image\n",
            "  io.imsave(f'{net_name}-{name}.png',I)\n",
            "Lossy conversion from int64 to uint8. Range [0, 255]. Convert image to uint8 prior to saving to suppress this warning.\n",
            "49it [00:07,  7.09it/s]/var/folders/t6/ntsczqdj1036typ96jgly34m0000gn/T/ipykernel_63371/3708903272.py:17: UserWarning: FC-Siam-diff-test00050.png.png is a low contrast image\n",
            "  io.imsave(f'{net_name}-{name}.png',I)\n",
            "Lossy conversion from int64 to uint8. Range [0, 255]. Convert image to uint8 prior to saving to suppress this warning.\n",
            "50it [00:07,  7.01it/s]/var/folders/t6/ntsczqdj1036typ96jgly34m0000gn/T/ipykernel_63371/3708903272.py:17: UserWarning: FC-Siam-diff-test00051.png.png is a low contrast image\n",
            "  io.imsave(f'{net_name}-{name}.png',I)\n",
            "Lossy conversion from int64 to uint8. Range [0, 255]. Convert image to uint8 prior to saving to suppress this warning.\n",
            "51it [00:07,  6.85it/s]/var/folders/t6/ntsczqdj1036typ96jgly34m0000gn/T/ipykernel_63371/3708903272.py:17: UserWarning: FC-Siam-diff-test00052.png.png is a low contrast image\n",
            "  io.imsave(f'{net_name}-{name}.png',I)\n",
            "Lossy conversion from int64 to uint8. Range [0, 255]. Convert image to uint8 prior to saving to suppress this warning.\n",
            "52it [00:07,  6.92it/s]/var/folders/t6/ntsczqdj1036typ96jgly34m0000gn/T/ipykernel_63371/3708903272.py:17: UserWarning: FC-Siam-diff-test00053.png.png is a low contrast image\n",
            "  io.imsave(f'{net_name}-{name}.png',I)\n",
            "Lossy conversion from int64 to uint8. Range [0, 255]. Convert image to uint8 prior to saving to suppress this warning.\n",
            "53it [00:07,  6.87it/s]/var/folders/t6/ntsczqdj1036typ96jgly34m0000gn/T/ipykernel_63371/3708903272.py:17: UserWarning: FC-Siam-diff-test00054.png.png is a low contrast image\n",
            "  io.imsave(f'{net_name}-{name}.png',I)\n",
            "Lossy conversion from int64 to uint8. Range [0, 255]. Convert image to uint8 prior to saving to suppress this warning.\n",
            "54it [00:07,  6.84it/s]/var/folders/t6/ntsczqdj1036typ96jgly34m0000gn/T/ipykernel_63371/3708903272.py:17: UserWarning: FC-Siam-diff-test00055.png.png is a low contrast image\n",
            "  io.imsave(f'{net_name}-{name}.png',I)\n",
            "Lossy conversion from int64 to uint8. Range [0, 255]. Convert image to uint8 prior to saving to suppress this warning.\n",
            "55it [00:08,  6.75it/s]/var/folders/t6/ntsczqdj1036typ96jgly34m0000gn/T/ipykernel_63371/3708903272.py:17: UserWarning: FC-Siam-diff-test00056.png.png is a low contrast image\n",
            "  io.imsave(f'{net_name}-{name}.png',I)\n",
            "Lossy conversion from int64 to uint8. Range [0, 255]. Convert image to uint8 prior to saving to suppress this warning.\n",
            "56it [00:08,  6.73it/s]/var/folders/t6/ntsczqdj1036typ96jgly34m0000gn/T/ipykernel_63371/3708903272.py:17: UserWarning: FC-Siam-diff-test00057.png.png is a low contrast image\n",
            "  io.imsave(f'{net_name}-{name}.png',I)\n",
            "Lossy conversion from int64 to uint8. Range [0, 255]. Convert image to uint8 prior to saving to suppress this warning.\n",
            "57it [00:08,  6.54it/s]/var/folders/t6/ntsczqdj1036typ96jgly34m0000gn/T/ipykernel_63371/3708903272.py:17: UserWarning: FC-Siam-diff-test00058.png.png is a low contrast image\n",
            "  io.imsave(f'{net_name}-{name}.png',I)\n",
            "Lossy conversion from int64 to uint8. Range [0, 255]. Convert image to uint8 prior to saving to suppress this warning.\n",
            "58it [00:08,  6.51it/s]/var/folders/t6/ntsczqdj1036typ96jgly34m0000gn/T/ipykernel_63371/3708903272.py:17: UserWarning: FC-Siam-diff-test00059.png.png is a low contrast image\n",
            "  io.imsave(f'{net_name}-{name}.png',I)\n",
            "Lossy conversion from int64 to uint8. Range [0, 255]. Convert image to uint8 prior to saving to suppress this warning.\n",
            "59it [00:08,  6.55it/s]/var/folders/t6/ntsczqdj1036typ96jgly34m0000gn/T/ipykernel_63371/3708903272.py:17: UserWarning: FC-Siam-diff-test00060.png.png is a low contrast image\n",
            "  io.imsave(f'{net_name}-{name}.png',I)\n",
            "Lossy conversion from int64 to uint8. Range [0, 255]. Convert image to uint8 prior to saving to suppress this warning.\n",
            "60it [00:08,  6.98it/s]/var/folders/t6/ntsczqdj1036typ96jgly34m0000gn/T/ipykernel_63371/3708903272.py:17: UserWarning: FC-Siam-diff-test00061.png.png is a low contrast image\n",
            "  io.imsave(f'{net_name}-{name}.png',I)\n",
            "Lossy conversion from int64 to uint8. Range [0, 255]. Convert image to uint8 prior to saving to suppress this warning.\n",
            "61it [00:08,  6.99it/s]/var/folders/t6/ntsczqdj1036typ96jgly34m0000gn/T/ipykernel_63371/3708903272.py:17: UserWarning: FC-Siam-diff-test00062.png.png is a low contrast image\n",
            "  io.imsave(f'{net_name}-{name}.png',I)\n",
            "Lossy conversion from int64 to uint8. Range [0, 255]. Convert image to uint8 prior to saving to suppress this warning.\n",
            "62it [00:09,  6.61it/s]/var/folders/t6/ntsczqdj1036typ96jgly34m0000gn/T/ipykernel_63371/3708903272.py:17: UserWarning: FC-Siam-diff-test00063.png.png is a low contrast image\n",
            "  io.imsave(f'{net_name}-{name}.png',I)\n",
            "Lossy conversion from int64 to uint8. Range [0, 255]. Convert image to uint8 prior to saving to suppress this warning.\n",
            "63it [00:09,  6.79it/s]/var/folders/t6/ntsczqdj1036typ96jgly34m0000gn/T/ipykernel_63371/3708903272.py:17: UserWarning: FC-Siam-diff-test00064.png.png is a low contrast image\n",
            "  io.imsave(f'{net_name}-{name}.png',I)\n",
            "64it [00:09,  7.14it/s]/var/folders/t6/ntsczqdj1036typ96jgly34m0000gn/T/ipykernel_63371/3708903272.py:17: UserWarning: FC-Siam-diff-test00065.png.png is a low contrast image\n",
            "  io.imsave(f'{net_name}-{name}.png',I)\n",
            "Lossy conversion from int64 to uint8. Range [0, 255]. Convert image to uint8 prior to saving to suppress this warning.\n",
            "65it [00:09,  7.05it/s]/var/folders/t6/ntsczqdj1036typ96jgly34m0000gn/T/ipykernel_63371/3708903272.py:17: UserWarning: FC-Siam-diff-test00066.png.png is a low contrast image\n",
            "  io.imsave(f'{net_name}-{name}.png',I)\n",
            "Lossy conversion from int64 to uint8. Range [0, 255]. Convert image to uint8 prior to saving to suppress this warning.\n",
            "66it [00:09,  7.24it/s]/var/folders/t6/ntsczqdj1036typ96jgly34m0000gn/T/ipykernel_63371/3708903272.py:17: UserWarning: FC-Siam-diff-test00067.png.png is a low contrast image\n",
            "  io.imsave(f'{net_name}-{name}.png',I)\n",
            "Lossy conversion from int64 to uint8. Range [0, 255]. Convert image to uint8 prior to saving to suppress this warning.\n",
            "67it [00:09,  7.36it/s]/var/folders/t6/ntsczqdj1036typ96jgly34m0000gn/T/ipykernel_63371/3708903272.py:17: UserWarning: FC-Siam-diff-test00068.png.png is a low contrast image\n",
            "  io.imsave(f'{net_name}-{name}.png',I)\n",
            "Lossy conversion from int64 to uint8. Range [0, 255]. Convert image to uint8 prior to saving to suppress this warning.\n",
            "68it [00:09,  7.44it/s]/var/folders/t6/ntsczqdj1036typ96jgly34m0000gn/T/ipykernel_63371/3708903272.py:17: UserWarning: FC-Siam-diff-test00069.png.png is a low contrast image\n",
            "  io.imsave(f'{net_name}-{name}.png',I)\n",
            "Lossy conversion from int64 to uint8. Range [0, 255]. Convert image to uint8 prior to saving to suppress this warning.\n",
            "69it [00:10,  7.14it/s]/var/folders/t6/ntsczqdj1036typ96jgly34m0000gn/T/ipykernel_63371/3708903272.py:17: UserWarning: FC-Siam-diff-test00070.png.png is a low contrast image\n",
            "  io.imsave(f'{net_name}-{name}.png',I)\n",
            "Lossy conversion from int64 to uint8. Range [0, 255]. Convert image to uint8 prior to saving to suppress this warning.\n",
            "70it [00:10,  7.12it/s]/var/folders/t6/ntsczqdj1036typ96jgly34m0000gn/T/ipykernel_63371/3708903272.py:17: UserWarning: FC-Siam-diff-test00071.png.png is a low contrast image\n",
            "  io.imsave(f'{net_name}-{name}.png',I)\n",
            "Lossy conversion from int64 to uint8. Range [0, 255]. Convert image to uint8 prior to saving to suppress this warning.\n",
            "71it [00:10,  7.21it/s]/var/folders/t6/ntsczqdj1036typ96jgly34m0000gn/T/ipykernel_63371/3708903272.py:17: UserWarning: FC-Siam-diff-test00072.png.png is a low contrast image\n",
            "  io.imsave(f'{net_name}-{name}.png',I)\n",
            "Lossy conversion from int64 to uint8. Range [0, 255]. Convert image to uint8 prior to saving to suppress this warning.\n",
            "72it [00:10,  7.06it/s]/var/folders/t6/ntsczqdj1036typ96jgly34m0000gn/T/ipykernel_63371/3708903272.py:17: UserWarning: FC-Siam-diff-test00073.png.png is a low contrast image\n",
            "  io.imsave(f'{net_name}-{name}.png',I)\n",
            "Lossy conversion from int64 to uint8. Range [0, 255]. Convert image to uint8 prior to saving to suppress this warning.\n",
            "73it [00:10,  7.05it/s]/var/folders/t6/ntsczqdj1036typ96jgly34m0000gn/T/ipykernel_63371/3708903272.py:17: UserWarning: FC-Siam-diff-test00074.png.png is a low contrast image\n",
            "  io.imsave(f'{net_name}-{name}.png',I)\n",
            "Lossy conversion from int64 to uint8. Range [0, 255]. Convert image to uint8 prior to saving to suppress this warning.\n",
            "74it [00:10,  7.13it/s]/var/folders/t6/ntsczqdj1036typ96jgly34m0000gn/T/ipykernel_63371/3708903272.py:17: UserWarning: FC-Siam-diff-test00075.png.png is a low contrast image\n",
            "  io.imsave(f'{net_name}-{name}.png',I)\n",
            "Lossy conversion from int64 to uint8. Range [0, 255]. Convert image to uint8 prior to saving to suppress this warning.\n",
            "75it [00:10,  7.14it/s]/var/folders/t6/ntsczqdj1036typ96jgly34m0000gn/T/ipykernel_63371/3708903272.py:17: UserWarning: FC-Siam-diff-test00076.png.png is a low contrast image\n",
            "  io.imsave(f'{net_name}-{name}.png',I)\n",
            "Lossy conversion from int64 to uint8. Range [0, 255]. Convert image to uint8 prior to saving to suppress this warning.\n",
            "76it [00:11,  6.88it/s]/var/folders/t6/ntsczqdj1036typ96jgly34m0000gn/T/ipykernel_63371/3708903272.py:17: UserWarning: FC-Siam-diff-test00077.png.png is a low contrast image\n",
            "  io.imsave(f'{net_name}-{name}.png',I)\n",
            "Lossy conversion from int64 to uint8. Range [0, 255]. Convert image to uint8 prior to saving to suppress this warning.\n",
            "77it [00:11,  6.93it/s]/var/folders/t6/ntsczqdj1036typ96jgly34m0000gn/T/ipykernel_63371/3708903272.py:17: UserWarning: FC-Siam-diff-test00078.png.png is a low contrast image\n",
            "  io.imsave(f'{net_name}-{name}.png',I)\n",
            "Lossy conversion from int64 to uint8. Range [0, 255]. Convert image to uint8 prior to saving to suppress this warning.\n",
            "78it [00:11,  6.93it/s]/var/folders/t6/ntsczqdj1036typ96jgly34m0000gn/T/ipykernel_63371/3708903272.py:17: UserWarning: FC-Siam-diff-test00079.png.png is a low contrast image\n",
            "  io.imsave(f'{net_name}-{name}.png',I)\n",
            "Lossy conversion from int64 to uint8. Range [0, 255]. Convert image to uint8 prior to saving to suppress this warning.\n",
            "79it [00:11,  6.60it/s]/var/folders/t6/ntsczqdj1036typ96jgly34m0000gn/T/ipykernel_63371/3708903272.py:17: UserWarning: FC-Siam-diff-test00080.png.png is a low contrast image\n",
            "  io.imsave(f'{net_name}-{name}.png',I)\n",
            "Lossy conversion from int64 to uint8. Range [0, 255]. Convert image to uint8 prior to saving to suppress this warning.\n",
            "80it [00:11,  6.61it/s]/var/folders/t6/ntsczqdj1036typ96jgly34m0000gn/T/ipykernel_63371/3708903272.py:17: UserWarning: FC-Siam-diff-test00081.png.png is a low contrast image\n",
            "  io.imsave(f'{net_name}-{name}.png',I)\n",
            "Lossy conversion from int64 to uint8. Range [0, 255]. Convert image to uint8 prior to saving to suppress this warning.\n",
            "81it [00:11,  6.14it/s]/var/folders/t6/ntsczqdj1036typ96jgly34m0000gn/T/ipykernel_63371/3708903272.py:17: UserWarning: FC-Siam-diff-test00082.png.png is a low contrast image\n",
            "  io.imsave(f'{net_name}-{name}.png',I)\n",
            "Lossy conversion from int64 to uint8. Range [0, 255]. Convert image to uint8 prior to saving to suppress this warning.\n",
            "82it [00:11,  6.46it/s]/var/folders/t6/ntsczqdj1036typ96jgly34m0000gn/T/ipykernel_63371/3708903272.py:17: UserWarning: FC-Siam-diff-test00083.png.png is a low contrast image\n",
            "  io.imsave(f'{net_name}-{name}.png',I)\n",
            "Lossy conversion from int64 to uint8. Range [0, 255]. Convert image to uint8 prior to saving to suppress this warning.\n",
            "83it [00:12,  6.82it/s]/var/folders/t6/ntsczqdj1036typ96jgly34m0000gn/T/ipykernel_63371/3708903272.py:17: UserWarning: FC-Siam-diff-test00084.png.png is a low contrast image\n",
            "  io.imsave(f'{net_name}-{name}.png',I)\n",
            "Lossy conversion from int64 to uint8. Range [0, 255]. Convert image to uint8 prior to saving to suppress this warning.\n",
            "84it [00:12,  6.85it/s]/var/folders/t6/ntsczqdj1036typ96jgly34m0000gn/T/ipykernel_63371/3708903272.py:17: UserWarning: FC-Siam-diff-test00085.png.png is a low contrast image\n",
            "  io.imsave(f'{net_name}-{name}.png',I)\n",
            "Lossy conversion from int64 to uint8. Range [0, 255]. Convert image to uint8 prior to saving to suppress this warning.\n",
            "85it [00:12,  6.99it/s]/var/folders/t6/ntsczqdj1036typ96jgly34m0000gn/T/ipykernel_63371/3708903272.py:17: UserWarning: FC-Siam-diff-test00086.png.png is a low contrast image\n",
            "  io.imsave(f'{net_name}-{name}.png',I)\n",
            "Lossy conversion from int64 to uint8. Range [0, 255]. Convert image to uint8 prior to saving to suppress this warning.\n",
            "86it [00:12,  6.88it/s]/var/folders/t6/ntsczqdj1036typ96jgly34m0000gn/T/ipykernel_63371/3708903272.py:17: UserWarning: FC-Siam-diff-test00087.png.png is a low contrast image\n",
            "  io.imsave(f'{net_name}-{name}.png',I)\n",
            "Lossy conversion from int64 to uint8. Range [0, 255]. Convert image to uint8 prior to saving to suppress this warning.\n",
            "87it [00:12,  6.81it/s]/var/folders/t6/ntsczqdj1036typ96jgly34m0000gn/T/ipykernel_63371/3708903272.py:17: UserWarning: FC-Siam-diff-test00088.png.png is a low contrast image\n",
            "  io.imsave(f'{net_name}-{name}.png',I)\n",
            "Lossy conversion from int64 to uint8. Range [0, 255]. Convert image to uint8 prior to saving to suppress this warning.\n",
            "88it [00:12,  6.76it/s]/var/folders/t6/ntsczqdj1036typ96jgly34m0000gn/T/ipykernel_63371/3708903272.py:17: UserWarning: FC-Siam-diff-test00089.png.png is a low contrast image\n",
            "  io.imsave(f'{net_name}-{name}.png',I)\n",
            "Lossy conversion from int64 to uint8. Range [0, 255]. Convert image to uint8 prior to saving to suppress this warning.\n",
            "89it [00:12,  6.95it/s]/var/folders/t6/ntsczqdj1036typ96jgly34m0000gn/T/ipykernel_63371/3708903272.py:17: UserWarning: FC-Siam-diff-test00090.png.png is a low contrast image\n",
            "  io.imsave(f'{net_name}-{name}.png',I)\n",
            "Lossy conversion from int64 to uint8. Range [0, 255]. Convert image to uint8 prior to saving to suppress this warning.\n",
            "90it [00:13,  7.06it/s]/var/folders/t6/ntsczqdj1036typ96jgly34m0000gn/T/ipykernel_63371/3708903272.py:17: UserWarning: FC-Siam-diff-test00091.png.png is a low contrast image\n",
            "  io.imsave(f'{net_name}-{name}.png',I)\n",
            "Lossy conversion from int64 to uint8. Range [0, 255]. Convert image to uint8 prior to saving to suppress this warning.\n",
            "91it [00:13,  7.15it/s]/var/folders/t6/ntsczqdj1036typ96jgly34m0000gn/T/ipykernel_63371/3708903272.py:17: UserWarning: FC-Siam-diff-test00092.png.png is a low contrast image\n",
            "  io.imsave(f'{net_name}-{name}.png',I)\n",
            "Lossy conversion from int64 to uint8. Range [0, 255]. Convert image to uint8 prior to saving to suppress this warning.\n",
            "92it [00:13,  7.14it/s]/var/folders/t6/ntsczqdj1036typ96jgly34m0000gn/T/ipykernel_63371/3708903272.py:17: UserWarning: FC-Siam-diff-test00093.png.png is a low contrast image\n",
            "  io.imsave(f'{net_name}-{name}.png',I)\n",
            "Lossy conversion from int64 to uint8. Range [0, 255]. Convert image to uint8 prior to saving to suppress this warning.\n",
            "93it [00:13,  7.34it/s]/var/folders/t6/ntsczqdj1036typ96jgly34m0000gn/T/ipykernel_63371/3708903272.py:17: UserWarning: FC-Siam-diff-test00094.png.png is a low contrast image\n",
            "  io.imsave(f'{net_name}-{name}.png',I)\n",
            "Lossy conversion from int64 to uint8. Range [0, 255]. Convert image to uint8 prior to saving to suppress this warning.\n",
            "94it [00:13,  6.94it/s]/var/folders/t6/ntsczqdj1036typ96jgly34m0000gn/T/ipykernel_63371/3708903272.py:17: UserWarning: FC-Siam-diff-test00095.png.png is a low contrast image\n",
            "  io.imsave(f'{net_name}-{name}.png',I)\n",
            "Lossy conversion from int64 to uint8. Range [0, 255]. Convert image to uint8 prior to saving to suppress this warning.\n",
            "95it [00:13,  6.99it/s]/var/folders/t6/ntsczqdj1036typ96jgly34m0000gn/T/ipykernel_63371/3708903272.py:17: UserWarning: FC-Siam-diff-test00096.png.png is a low contrast image\n",
            "  io.imsave(f'{net_name}-{name}.png',I)\n",
            "Lossy conversion from int64 to uint8. Range [0, 255]. Convert image to uint8 prior to saving to suppress this warning.\n",
            "96it [00:13,  6.82it/s]/var/folders/t6/ntsczqdj1036typ96jgly34m0000gn/T/ipykernel_63371/3708903272.py:17: UserWarning: FC-Siam-diff-test00097.png.png is a low contrast image\n",
            "  io.imsave(f'{net_name}-{name}.png',I)\n",
            "Lossy conversion from int64 to uint8. Range [0, 255]. Convert image to uint8 prior to saving to suppress this warning.\n",
            "97it [00:14,  6.95it/s]/var/folders/t6/ntsczqdj1036typ96jgly34m0000gn/T/ipykernel_63371/3708903272.py:17: UserWarning: FC-Siam-diff-test00098.png.png is a low contrast image\n",
            "  io.imsave(f'{net_name}-{name}.png',I)\n",
            "Lossy conversion from int64 to uint8. Range [0, 255]. Convert image to uint8 prior to saving to suppress this warning.\n",
            "98it [00:14,  7.09it/s]/var/folders/t6/ntsczqdj1036typ96jgly34m0000gn/T/ipykernel_63371/3708903272.py:17: UserWarning: FC-Siam-diff-test00099.png.png is a low contrast image\n",
            "  io.imsave(f'{net_name}-{name}.png',I)\n",
            "Lossy conversion from int64 to uint8. Range [0, 255]. Convert image to uint8 prior to saving to suppress this warning.\n",
            "99it [00:14,  6.88it/s]"
          ]
        },
        {
          "name": "stdout",
          "output_type": "stream",
          "text": [
            "Elapsed time: 14.39257001876831\n"
          ]
        },
        {
          "name": "stderr",
          "output_type": "stream",
          "text": [
            "\n"
          ]
        }
      ],
      "source": [
        "# Test\n",
        "def save_test_results(dset):\n",
        "    for idx, name in tqdm(dset.names.iterrows()):\n",
        "        name = name[0]\n",
        "        with warnings.catch_warnings():\n",
        "            I1, I2, cm = dset.get_img(name)\n",
        "            I1 = Variable(torch.unsqueeze(I1, 0).float())\n",
        "            I2 = Variable(torch.unsqueeze(I2, 0).float())\n",
        "\n",
        "            if GPU_ENABLED:\n",
        "                I1 = I1.cuda()\n",
        "                I2 = I2.cuda()\n",
        "\n",
        "            out = net(I1, I2)\n",
        "            _, predicted = torch.max(out.data, 1)\n",
        "            I = np.stack((255*cm,255*np.squeeze(predicted.cpu().numpy()),255*cm),2)\n",
        "            io.imsave(f'{net_name}-{name}.png',I)\n",
        "\n",
        "t_start = time.time()\n",
        "save_test_results(test_dataset)\n",
        "t_end = time.time()\n",
        "print('Elapsed time: {}'.format(t_end - t_start))\n"
      ]
    },
    {
      "cell_type": "code",
      "execution_count": null,
      "metadata": {
        "colab": {
          "base_uri": "https://localhost:8080/",
          "height": 398
        },
        "id": "tD4xuXfSFgJc",
        "outputId": "d0184bcd-78f6-4ca6-f1c1-5c2811a318ec"
      },
      "outputs": [
        {
          "name": "stderr",
          "output_type": "stream",
          "text": [
            "99it [00:46,  2.15it/s]"
          ]
        },
        {
          "name": "stdout",
          "output_type": "stream",
          "text": [
            "{'class_accuracy': [99.84994506835938, 8.30510139465332],\n",
            " 'dice': 0.15231818204792544,\n",
            " 'kappa': 0.12803698515105952,\n",
            " 'net_accuracy': 84.49031945430872,\n",
            " 'net_loss': 0.3434380292892456,\n",
            " 'precision': 0.9177545426860217,\n",
            " 'recall': 0.08305100938466853}\n"
          ]
        },
        {
          "name": "stderr",
          "output_type": "stream",
          "text": [
            "\n"
          ]
        }
      ],
      "source": [
        "results = model.evaluate(test_dataset)\n",
        "pprint(results)"
      ]
    },
    {
      "cell_type": "code",
      "execution_count": 12,
      "metadata": {},
      "outputs": [
        {
          "name": "stdout",
          "output_type": "stream",
          "text": [
            "{'class_accuracy': [99.84994506835938, 8.30510139465332],\n",
            " 'dice': 0.15231818204792544,\n",
            " 'kappa': 0.12803698515105952,\n",
            " 'net_accuracy': 84.49031945430872,\n",
            " 'net_loss': 0.3434380292892456,\n",
            " 'precision': 0.9177545426860217,\n",
            " 'recall': 0.08305100938466853}\n"
          ]
        }
      ],
      "source": [
        "pprint(results)"
      ]
    }
  ],
  "metadata": {
    "accelerator": "GPU",
    "colab": {
      "provenance": []
    },
    "gpuClass": "standard",
    "kernelspec": {
      "display_name": "Python 3",
      "language": "python",
      "name": "python3"
    },
    "language_info": {
      "codemirror_mode": {
        "name": "ipython",
        "version": 3
      },
      "file_extension": ".py",
      "mimetype": "text/x-python",
      "name": "python",
      "nbconvert_exporter": "python",
      "pygments_lexer": "ipython3",
      "version": "3.9.0"
    }
  },
  "nbformat": 4,
  "nbformat_minor": 0
}
