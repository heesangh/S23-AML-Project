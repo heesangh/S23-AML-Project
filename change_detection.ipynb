{
  "cells": [
    {
      "cell_type": "code",
      "execution_count": 1,
      "metadata": {
        "colab": {
          "base_uri": "https://localhost:8080/"
        },
        "id": "OdvBn0KMFgJO",
        "outputId": "0b6a5950-7049-4c2d-ea33-dff434872327"
      },
      "outputs": [],
      "source": [
        "# Imports\n",
        "\n",
        "# PyTorch\n",
        "import torch\n",
        "import torch.nn as nn\n",
        "from torch.utils.data import DataLoader\n",
        "from torch.autograd import Variable\n",
        "import torchvision.transforms as tr\n",
        "from model.change_detction_dataset import ChangeDetectionDataset, RandomFlip, RandomRot\n",
        "\n",
        "# Models\n",
        "from model.unet import Unet\n",
        "from model.siamunet_conc import SiamUnet_conc\n",
        "from model.siamunet_diff import SiamUnet_diff\n",
        "from model.fresunet import FresUNet\n",
        "from model.model import Model, ModelConfig\n",
        "\n",
        "# Other\n",
        "import numpy as np\n",
        "from skimage import io\n",
        "\n",
        "%matplotlib inline\n",
        "from tqdm import tqdm as tqdm\n",
        "import time\n",
        "import warnings\n",
        "from pprint import pprint\n"
      ]
    },
    {
      "cell_type": "code",
      "execution_count": 2,
      "metadata": {
        "colab": {
          "base_uri": "https://localhost:8080/"
        },
        "id": "134LZ1yhFgJR",
        "outputId": "aa18d84d-d235-4753-dff7-97581bca9d31"
      },
      "outputs": [],
      "source": [
        "# Global Variables' Definitions\n",
        "PATH_TO_DATASET = './dataset-lite/'\n",
        "MODEL_TYPE = 1 # 0-FC-EF | 1-FC-Siam-diff | 2-FC-Siam-conc | 3-FresUNet\n",
        "GPU_ENABLED = True\n",
        "LOAD_TRAINED = False\n",
        "\n",
        "\n",
        "#Cofniguration\n",
        "DATA_AUG = True\n",
        "BATCH_SIZE = 32\n",
        "PATCH_SIDE = 96\n",
        "N_EPOCHS = 50\n",
        "NORMALISE_IMGS = True\n",
        "TRAIN_STRIDE = int(PATCH_SIDE/2) - 1"
      ]
    },
    {
      "cell_type": "code",
      "execution_count": 3,
      "metadata": {
        "colab": {
          "base_uri": "https://localhost:8080/"
        },
        "id": "xRZI66fGFgJV",
        "outputId": "62c40c09-0518-4830-fa2d-0ddf76c69a93"
      },
      "outputs": [
        {
          "name": "stderr",
          "output_type": "stream",
          "text": [
            "499it [00:07, 66.13it/s]\n",
            "99it [00:02, 36.61it/s]\n"
          ]
        }
      ],
      "source": [
        "# Dataset\n",
        "if DATA_AUG:\n",
        "    data_transform = tr.Compose([RandomFlip(), RandomRot()])\n",
        "else:\n",
        "    data_transform = None\n",
        "\n",
        "\n",
        "train_dataset = ChangeDetectionDataset(PATH_TO_DATASET, train = True, stride = TRAIN_STRIDE, transform=data_transform)\n",
        "weights = torch.FloatTensor(train_dataset.weights)\n",
        "if GPU_ENABLED:\n",
        "  weights = weights.cuda()\n",
        "  \n",
        "train_loader = DataLoader(train_dataset, batch_size = BATCH_SIZE, shuffle = True, num_workers = 4)\n",
        "test_dataset = ChangeDetectionDataset(PATH_TO_DATASET, train = False, stride = TRAIN_STRIDE)\n",
        "test_loader = DataLoader(test_dataset, batch_size = BATCH_SIZE, shuffle = True, num_workers = 4)\n",
        "\n"
      ]
    },
    {
      "cell_type": "code",
      "execution_count": 4,
      "metadata": {
        "colab": {
          "base_uri": "https://localhost:8080/"
        },
        "id": "Lr88HmjBFgJX",
        "outputId": "e75bcb50-1495-4304-e803-d2ae3ecec792"
      },
      "outputs": [],
      "source": [
        "# 0-FC-EF | 1-FC-Siam-diff | 2-FC-Siam-conc | 3-FresUNet\n",
        "if MODEL_TYPE == 0:\n",
        "    net, net_name = Unet(2*3, 2), 'FC-EF'\n",
        "elif MODEL_TYPE == 1:\n",
        "    net, net_name = SiamUnet_diff(3, 2), 'FC-Siam-diff'\n",
        "elif MODEL_TYPE == 2:\n",
        "    net, net_name = SiamUnet_conc(3, 2), 'FC-Siam-conc'\n",
        "elif MODEL_TYPE == 3:\n",
        "    net, net_name = FresUNet(2*3, 2), 'FresUNet'\n",
        "\n",
        "if GPU_ENABLED:\n",
        "    net.cuda()\n",
        "\n",
        "criterion = nn.NLLLoss(weight=weights) # to be used with logsoftmax output"
      ]
    },
    {
      "cell_type": "code",
      "execution_count": 5,
      "metadata": {
        "colab": {
          "base_uri": "https://localhost:8080/"
        },
        "id": "6lE3ixBWFgJY",
        "outputId": "e0c0c462-c168-459c-b371-44a30a254cc4"
      },
      "outputs": [
        {
          "name": "stdout",
          "output_type": "stream",
          "text": [
            "Number of trainable parameters: 1350146\n"
          ]
        }
      ],
      "source": [
        "def count_parameters(model):\n",
        "    return sum(p.numel() for p in model.parameters() if p.requires_grad)\n",
        "\n",
        "print('Number of trainable parameters:', count_parameters(net))"
      ]
    },
    {
      "cell_type": "code",
      "execution_count": 6,
      "metadata": {
        "id": "QMIQufikFgJZ"
      },
      "outputs": [],
      "source": [
        "model_config = ModelConfig(n_epochs=N_EPOCHS, gpu_enabled=GPU_ENABLED)\n",
        "model = Model(\n",
        "    model=net,\n",
        "    model_name=net_name,\n",
        "    config=model_config,\n",
        "    train_dataset=train_dataset,\n",
        "    train_loader=train_loader,\n",
        "    test_dataset=test_dataset,\n",
        "    criterion=criterion,\n",
        ")"
      ]
    },
    {
      "cell_type": "code",
      "execution_count": 7,
      "metadata": {},
      "outputs": [
        {
          "name": "stderr",
          "output_type": "stream",
          "text": [
            "  0%|          | 0/50 [00:00<?, ?it/s]"
          ]
        },
        {
          "name": "stdout",
          "output_type": "stream",
          "text": [
            "Epoch: 1 of 50\n"
          ]
        },
        {
          "name": "stderr",
          "output_type": "stream",
          "text": []
        },
        {
          "name": "stdout",
          "output_type": "stream",
          "text": [
            "Training: 1/ 250\n"
          ]
        },
        {
          "name": "stderr",
          "output_type": "stream",
          "text": []
        },
        {
          "name": "stdout",
          "output_type": "stream",
          "text": [
            "Training: 2/ 250\n"
          ]
        },
        {
          "name": "stderr",
          "output_type": "stream",
          "text": []
        },
        {
          "name": "stdout",
          "output_type": "stream",
          "text": [
            "Training: 3/ 250\n"
          ]
        },
        {
          "name": "stderr",
          "output_type": "stream",
          "text": []
        },
        {
          "name": "stdout",
          "output_type": "stream",
          "text": [
            "Training: 4/ 250\n"
          ]
        },
        {
          "name": "stderr",
          "output_type": "stream",
          "text": []
        },
        {
          "name": "stdout",
          "output_type": "stream",
          "text": [
            "Training: 5/ 250\n"
          ]
        },
        {
          "name": "stderr",
          "output_type": "stream",
          "text": []
        },
        {
          "name": "stdout",
          "output_type": "stream",
          "text": [
            "Training: 6/ 250\n"
          ]
        },
        {
          "name": "stderr",
          "output_type": "stream",
          "text": []
        },
        {
          "name": "stdout",
          "output_type": "stream",
          "text": [
            "Training: 7/ 250\n"
          ]
        },
        {
          "name": "stderr",
          "output_type": "stream",
          "text": []
        },
        {
          "name": "stdout",
          "output_type": "stream",
          "text": [
            "Training: 8/ 250\n"
          ]
        },
        {
          "name": "stderr",
          "output_type": "stream",
          "text": []
        },
        {
          "name": "stdout",
          "output_type": "stream",
          "text": [
            "Training: 9/ 250\n"
          ]
        },
        {
          "name": "stderr",
          "output_type": "stream",
          "text": []
        },
        {
          "name": "stdout",
          "output_type": "stream",
          "text": [
            "Training: 10/ 250\n"
          ]
        },
        {
          "name": "stderr",
          "output_type": "stream",
          "text": []
        },
        {
          "name": "stdout",
          "output_type": "stream",
          "text": [
            "Training: 11/ 250\n"
          ]
        },
        {
          "name": "stderr",
          "output_type": "stream",
          "text": []
        },
        {
          "name": "stdout",
          "output_type": "stream",
          "text": [
            "Training: 12/ 250\n"
          ]
        },
        {
          "name": "stderr",
          "output_type": "stream",
          "text": []
        },
        {
          "name": "stdout",
          "output_type": "stream",
          "text": [
            "Training: 13/ 250\n"
          ]
        },
        {
          "name": "stderr",
          "output_type": "stream",
          "text": []
        },
        {
          "name": "stdout",
          "output_type": "stream",
          "text": [
            "Training: 14/ 250\n"
          ]
        },
        {
          "name": "stderr",
          "output_type": "stream",
          "text": []
        },
        {
          "name": "stdout",
          "output_type": "stream",
          "text": [
            "Training: 15/ 250\n"
          ]
        },
        {
          "name": "stderr",
          "output_type": "stream",
          "text": []
        },
        {
          "name": "stdout",
          "output_type": "stream",
          "text": [
            "Training: 16/ 250\n"
          ]
        },
        {
          "name": "stderr",
          "output_type": "stream",
          "text": []
        },
        {
          "name": "stdout",
          "output_type": "stream",
          "text": [
            "Training: 17/ 250\n"
          ]
        },
        {
          "name": "stderr",
          "output_type": "stream",
          "text": []
        },
        {
          "name": "stdout",
          "output_type": "stream",
          "text": [
            "Training: 18/ 250\n"
          ]
        },
        {
          "name": "stderr",
          "output_type": "stream",
          "text": []
        },
        {
          "name": "stdout",
          "output_type": "stream",
          "text": [
            "Training: 19/ 250\n"
          ]
        },
        {
          "name": "stderr",
          "output_type": "stream",
          "text": []
        },
        {
          "name": "stdout",
          "output_type": "stream",
          "text": [
            "Training: 20/ 250\n"
          ]
        },
        {
          "name": "stderr",
          "output_type": "stream",
          "text": []
        },
        {
          "name": "stdout",
          "output_type": "stream",
          "text": [
            "Training: 21/ 250\n"
          ]
        },
        {
          "name": "stderr",
          "output_type": "stream",
          "text": []
        },
        {
          "name": "stdout",
          "output_type": "stream",
          "text": [
            "Training: 22/ 250\n"
          ]
        },
        {
          "name": "stderr",
          "output_type": "stream",
          "text": []
        },
        {
          "name": "stdout",
          "output_type": "stream",
          "text": [
            "Training: 23/ 250\n"
          ]
        },
        {
          "name": "stderr",
          "output_type": "stream",
          "text": []
        },
        {
          "name": "stdout",
          "output_type": "stream",
          "text": [
            "Training: 24/ 250\n"
          ]
        },
        {
          "name": "stderr",
          "output_type": "stream",
          "text": []
        },
        {
          "name": "stdout",
          "output_type": "stream",
          "text": [
            "Training: 25/ 250\n"
          ]
        },
        {
          "name": "stderr",
          "output_type": "stream",
          "text": []
        },
        {
          "name": "stdout",
          "output_type": "stream",
          "text": [
            "Training: 26/ 250\n"
          ]
        },
        {
          "name": "stderr",
          "output_type": "stream",
          "text": []
        },
        {
          "name": "stdout",
          "output_type": "stream",
          "text": [
            "Training: 27/ 250\n"
          ]
        },
        {
          "name": "stderr",
          "output_type": "stream",
          "text": []
        },
        {
          "name": "stdout",
          "output_type": "stream",
          "text": [
            "Training: 28/ 250\n"
          ]
        },
        {
          "name": "stderr",
          "output_type": "stream",
          "text": []
        },
        {
          "name": "stdout",
          "output_type": "stream",
          "text": [
            "Training: 29/ 250\n"
          ]
        },
        {
          "name": "stderr",
          "output_type": "stream",
          "text": []
        },
        {
          "name": "stdout",
          "output_type": "stream",
          "text": [
            "Training: 30/ 250\n"
          ]
        },
        {
          "name": "stderr",
          "output_type": "stream",
          "text": []
        },
        {
          "name": "stdout",
          "output_type": "stream",
          "text": [
            "Training: 31/ 250\n"
          ]
        },
        {
          "name": "stderr",
          "output_type": "stream",
          "text": []
        },
        {
          "name": "stdout",
          "output_type": "stream",
          "text": [
            "Training: 32/ 250\n"
          ]
        },
        {
          "name": "stderr",
          "output_type": "stream",
          "text": []
        },
        {
          "name": "stdout",
          "output_type": "stream",
          "text": [
            "Training: 33/ 250\n"
          ]
        },
        {
          "name": "stderr",
          "output_type": "stream",
          "text": []
        },
        {
          "name": "stdout",
          "output_type": "stream",
          "text": [
            "Training: 34/ 250\n"
          ]
        },
        {
          "name": "stderr",
          "output_type": "stream",
          "text": []
        },
        {
          "name": "stdout",
          "output_type": "stream",
          "text": [
            "Training: 35/ 250\n"
          ]
        },
        {
          "name": "stderr",
          "output_type": "stream",
          "text": []
        },
        {
          "name": "stdout",
          "output_type": "stream",
          "text": [
            "Training: 36/ 250\n"
          ]
        },
        {
          "name": "stderr",
          "output_type": "stream",
          "text": []
        },
        {
          "name": "stdout",
          "output_type": "stream",
          "text": [
            "Training: 37/ 250\n"
          ]
        },
        {
          "name": "stderr",
          "output_type": "stream",
          "text": []
        },
        {
          "name": "stdout",
          "output_type": "stream",
          "text": [
            "Training: 38/ 250\n"
          ]
        },
        {
          "name": "stderr",
          "output_type": "stream",
          "text": []
        },
        {
          "name": "stdout",
          "output_type": "stream",
          "text": [
            "Training: 39/ 250\n"
          ]
        },
        {
          "name": "stderr",
          "output_type": "stream",
          "text": []
        },
        {
          "name": "stdout",
          "output_type": "stream",
          "text": [
            "Training: 40/ 250\n"
          ]
        },
        {
          "name": "stderr",
          "output_type": "stream",
          "text": []
        },
        {
          "name": "stdout",
          "output_type": "stream",
          "text": [
            "Training: 41/ 250\n"
          ]
        },
        {
          "name": "stderr",
          "output_type": "stream",
          "text": []
        },
        {
          "name": "stdout",
          "output_type": "stream",
          "text": [
            "Training: 42/ 250\n"
          ]
        },
        {
          "name": "stderr",
          "output_type": "stream",
          "text": []
        },
        {
          "name": "stdout",
          "output_type": "stream",
          "text": [
            "Training: 43/ 250\n"
          ]
        },
        {
          "name": "stderr",
          "output_type": "stream",
          "text": []
        },
        {
          "name": "stdout",
          "output_type": "stream",
          "text": [
            "Training: 44/ 250\n"
          ]
        },
        {
          "name": "stderr",
          "output_type": "stream",
          "text": []
        },
        {
          "name": "stdout",
          "output_type": "stream",
          "text": [
            "Training: 45/ 250\n"
          ]
        },
        {
          "name": "stderr",
          "output_type": "stream",
          "text": []
        },
        {
          "name": "stdout",
          "output_type": "stream",
          "text": [
            "Training: 46/ 250\n"
          ]
        },
        {
          "name": "stderr",
          "output_type": "stream",
          "text": []
        },
        {
          "name": "stdout",
          "output_type": "stream",
          "text": [
            "Training: 47/ 250\n"
          ]
        },
        {
          "name": "stderr",
          "output_type": "stream",
          "text": []
        },
        {
          "name": "stdout",
          "output_type": "stream",
          "text": [
            "Training: 48/ 250\n"
          ]
        },
        {
          "name": "stderr",
          "output_type": "stream",
          "text": []
        },
        {
          "name": "stdout",
          "output_type": "stream",
          "text": [
            "Training: 49/ 250\n"
          ]
        },
        {
          "name": "stderr",
          "output_type": "stream",
          "text": []
        },
        {
          "name": "stdout",
          "output_type": "stream",
          "text": [
            "Training: 50/ 250\n"
          ]
        },
        {
          "name": "stderr",
          "output_type": "stream",
          "text": []
        },
        {
          "name": "stdout",
          "output_type": "stream",
          "text": [
            "Training: 51/ 250\n"
          ]
        },
        {
          "name": "stderr",
          "output_type": "stream",
          "text": []
        },
        {
          "name": "stdout",
          "output_type": "stream",
          "text": [
            "Training: 52/ 250\n"
          ]
        },
        {
          "name": "stderr",
          "output_type": "stream",
          "text": []
        },
        {
          "name": "stdout",
          "output_type": "stream",
          "text": [
            "Training: 53/ 250\n"
          ]
        },
        {
          "name": "stderr",
          "output_type": "stream",
          "text": []
        },
        {
          "name": "stdout",
          "output_type": "stream",
          "text": [
            "Training: 54/ 250\n"
          ]
        },
        {
          "name": "stderr",
          "output_type": "stream",
          "text": []
        },
        {
          "name": "stdout",
          "output_type": "stream",
          "text": [
            "Training: 55/ 250\n"
          ]
        },
        {
          "name": "stderr",
          "output_type": "stream",
          "text": []
        },
        {
          "name": "stdout",
          "output_type": "stream",
          "text": [
            "Training: 56/ 250\n"
          ]
        },
        {
          "name": "stderr",
          "output_type": "stream",
          "text": []
        },
        {
          "name": "stdout",
          "output_type": "stream",
          "text": [
            "Training: 57/ 250\n"
          ]
        },
        {
          "name": "stderr",
          "output_type": "stream",
          "text": []
        },
        {
          "name": "stdout",
          "output_type": "stream",
          "text": [
            "Training: 58/ 250\n"
          ]
        },
        {
          "name": "stderr",
          "output_type": "stream",
          "text": []
        },
        {
          "name": "stdout",
          "output_type": "stream",
          "text": [
            "Training: 59/ 250\n"
          ]
        },
        {
          "name": "stderr",
          "output_type": "stream",
          "text": []
        },
        {
          "name": "stdout",
          "output_type": "stream",
          "text": [
            "Training: 60/ 250\n"
          ]
        },
        {
          "name": "stderr",
          "output_type": "stream",
          "text": []
        },
        {
          "name": "stdout",
          "output_type": "stream",
          "text": [
            "Training: 61/ 250\n"
          ]
        },
        {
          "name": "stderr",
          "output_type": "stream",
          "text": []
        },
        {
          "name": "stdout",
          "output_type": "stream",
          "text": [
            "Training: 62/ 250\n"
          ]
        },
        {
          "name": "stderr",
          "output_type": "stream",
          "text": []
        },
        {
          "name": "stdout",
          "output_type": "stream",
          "text": [
            "Training: 63/ 250\n"
          ]
        },
        {
          "name": "stderr",
          "output_type": "stream",
          "text": []
        },
        {
          "name": "stdout",
          "output_type": "stream",
          "text": [
            "Training: 64/ 250\n"
          ]
        },
        {
          "name": "stderr",
          "output_type": "stream",
          "text": []
        },
        {
          "name": "stdout",
          "output_type": "stream",
          "text": [
            "Training: 65/ 250\n"
          ]
        },
        {
          "name": "stderr",
          "output_type": "stream",
          "text": []
        },
        {
          "name": "stdout",
          "output_type": "stream",
          "text": [
            "Training: 66/ 250\n"
          ]
        },
        {
          "name": "stderr",
          "output_type": "stream",
          "text": []
        },
        {
          "name": "stdout",
          "output_type": "stream",
          "text": [
            "Training: 67/ 250\n"
          ]
        },
        {
          "name": "stderr",
          "output_type": "stream",
          "text": []
        },
        {
          "name": "stdout",
          "output_type": "stream",
          "text": [
            "Training: 68/ 250\n"
          ]
        },
        {
          "name": "stderr",
          "output_type": "stream",
          "text": []
        },
        {
          "name": "stdout",
          "output_type": "stream",
          "text": [
            "Training: 69/ 250\n"
          ]
        },
        {
          "name": "stderr",
          "output_type": "stream",
          "text": []
        },
        {
          "name": "stdout",
          "output_type": "stream",
          "text": [
            "Training: 70/ 250\n"
          ]
        },
        {
          "name": "stderr",
          "output_type": "stream",
          "text": []
        },
        {
          "name": "stdout",
          "output_type": "stream",
          "text": [
            "Training: 71/ 250\n"
          ]
        },
        {
          "name": "stderr",
          "output_type": "stream",
          "text": []
        },
        {
          "name": "stdout",
          "output_type": "stream",
          "text": [
            "Training: 72/ 250\n"
          ]
        },
        {
          "name": "stderr",
          "output_type": "stream",
          "text": []
        },
        {
          "name": "stdout",
          "output_type": "stream",
          "text": [
            "Training: 73/ 250\n"
          ]
        },
        {
          "name": "stderr",
          "output_type": "stream",
          "text": []
        },
        {
          "name": "stdout",
          "output_type": "stream",
          "text": [
            "Training: 74/ 250\n"
          ]
        },
        {
          "name": "stderr",
          "output_type": "stream",
          "text": []
        },
        {
          "name": "stdout",
          "output_type": "stream",
          "text": [
            "Training: 75/ 250\n"
          ]
        },
        {
          "name": "stderr",
          "output_type": "stream",
          "text": []
        },
        {
          "name": "stdout",
          "output_type": "stream",
          "text": [
            "Training: 76/ 250\n"
          ]
        },
        {
          "name": "stderr",
          "output_type": "stream",
          "text": []
        },
        {
          "name": "stdout",
          "output_type": "stream",
          "text": [
            "Training: 77/ 250\n"
          ]
        },
        {
          "name": "stderr",
          "output_type": "stream",
          "text": []
        },
        {
          "name": "stdout",
          "output_type": "stream",
          "text": [
            "Training: 78/ 250\n"
          ]
        },
        {
          "name": "stderr",
          "output_type": "stream",
          "text": []
        },
        {
          "name": "stdout",
          "output_type": "stream",
          "text": [
            "Training: 79/ 250\n"
          ]
        },
        {
          "name": "stderr",
          "output_type": "stream",
          "text": []
        },
        {
          "name": "stdout",
          "output_type": "stream",
          "text": [
            "Training: 80/ 250\n"
          ]
        },
        {
          "name": "stderr",
          "output_type": "stream",
          "text": []
        },
        {
          "name": "stdout",
          "output_type": "stream",
          "text": [
            "Training: 81/ 250\n"
          ]
        },
        {
          "name": "stderr",
          "output_type": "stream",
          "text": []
        },
        {
          "name": "stdout",
          "output_type": "stream",
          "text": [
            "Training: 82/ 250\n"
          ]
        },
        {
          "name": "stderr",
          "output_type": "stream",
          "text": []
        },
        {
          "name": "stdout",
          "output_type": "stream",
          "text": [
            "Training: 83/ 250\n"
          ]
        },
        {
          "name": "stderr",
          "output_type": "stream",
          "text": []
        },
        {
          "name": "stdout",
          "output_type": "stream",
          "text": [
            "Training: 84/ 250\n"
          ]
        },
        {
          "name": "stderr",
          "output_type": "stream",
          "text": []
        },
        {
          "name": "stdout",
          "output_type": "stream",
          "text": [
            "Training: 85/ 250\n"
          ]
        },
        {
          "name": "stderr",
          "output_type": "stream",
          "text": []
        },
        {
          "name": "stdout",
          "output_type": "stream",
          "text": [
            "Training: 86/ 250\n"
          ]
        },
        {
          "name": "stderr",
          "output_type": "stream",
          "text": []
        },
        {
          "name": "stdout",
          "output_type": "stream",
          "text": [
            "Training: 87/ 250\n"
          ]
        },
        {
          "name": "stderr",
          "output_type": "stream",
          "text": []
        },
        {
          "name": "stdout",
          "output_type": "stream",
          "text": [
            "Training: 88/ 250\n"
          ]
        },
        {
          "name": "stderr",
          "output_type": "stream",
          "text": []
        },
        {
          "name": "stdout",
          "output_type": "stream",
          "text": [
            "Training: 89/ 250\n"
          ]
        },
        {
          "name": "stderr",
          "output_type": "stream",
          "text": []
        },
        {
          "name": "stdout",
          "output_type": "stream",
          "text": [
            "Training: 90/ 250\n"
          ]
        },
        {
          "name": "stderr",
          "output_type": "stream",
          "text": []
        },
        {
          "name": "stdout",
          "output_type": "stream",
          "text": [
            "Training: 91/ 250\n"
          ]
        },
        {
          "name": "stderr",
          "output_type": "stream",
          "text": []
        },
        {
          "name": "stdout",
          "output_type": "stream",
          "text": [
            "Training: 92/ 250\n"
          ]
        },
        {
          "name": "stderr",
          "output_type": "stream",
          "text": []
        },
        {
          "name": "stdout",
          "output_type": "stream",
          "text": [
            "Training: 93/ 250\n"
          ]
        },
        {
          "name": "stderr",
          "output_type": "stream",
          "text": []
        },
        {
          "name": "stdout",
          "output_type": "stream",
          "text": [
            "Training: 94/ 250\n"
          ]
        },
        {
          "name": "stderr",
          "output_type": "stream",
          "text": []
        },
        {
          "name": "stdout",
          "output_type": "stream",
          "text": [
            "Training: 95/ 250\n"
          ]
        },
        {
          "name": "stderr",
          "output_type": "stream",
          "text": []
        },
        {
          "name": "stdout",
          "output_type": "stream",
          "text": [
            "Training: 96/ 250\n"
          ]
        },
        {
          "name": "stderr",
          "output_type": "stream",
          "text": []
        },
        {
          "name": "stdout",
          "output_type": "stream",
          "text": [
            "Training: 97/ 250\n"
          ]
        },
        {
          "name": "stderr",
          "output_type": "stream",
          "text": []
        },
        {
          "name": "stdout",
          "output_type": "stream",
          "text": [
            "Training: 98/ 250\n"
          ]
        },
        {
          "name": "stderr",
          "output_type": "stream",
          "text": []
        },
        {
          "name": "stdout",
          "output_type": "stream",
          "text": [
            "Training: 99/ 250\n"
          ]
        },
        {
          "name": "stderr",
          "output_type": "stream",
          "text": []
        },
        {
          "name": "stdout",
          "output_type": "stream",
          "text": [
            "Training: 100/ 250\n"
          ]
        },
        {
          "name": "stderr",
          "output_type": "stream",
          "text": []
        },
        {
          "name": "stdout",
          "output_type": "stream",
          "text": [
            "Training: 101/ 250\n"
          ]
        },
        {
          "name": "stderr",
          "output_type": "stream",
          "text": []
        },
        {
          "name": "stdout",
          "output_type": "stream",
          "text": [
            "Training: 102/ 250\n"
          ]
        },
        {
          "name": "stderr",
          "output_type": "stream",
          "text": []
        },
        {
          "name": "stdout",
          "output_type": "stream",
          "text": [
            "Training: 103/ 250\n"
          ]
        },
        {
          "name": "stderr",
          "output_type": "stream",
          "text": []
        },
        {
          "name": "stdout",
          "output_type": "stream",
          "text": [
            "Training: 104/ 250\n"
          ]
        },
        {
          "name": "stderr",
          "output_type": "stream",
          "text": []
        },
        {
          "name": "stdout",
          "output_type": "stream",
          "text": [
            "Training: 105/ 250\n"
          ]
        },
        {
          "name": "stderr",
          "output_type": "stream",
          "text": []
        },
        {
          "name": "stdout",
          "output_type": "stream",
          "text": [
            "Training: 106/ 250\n"
          ]
        },
        {
          "name": "stderr",
          "output_type": "stream",
          "text": []
        },
        {
          "name": "stdout",
          "output_type": "stream",
          "text": [
            "Training: 107/ 250\n"
          ]
        },
        {
          "name": "stderr",
          "output_type": "stream",
          "text": []
        },
        {
          "name": "stdout",
          "output_type": "stream",
          "text": [
            "Training: 108/ 250\n"
          ]
        },
        {
          "name": "stderr",
          "output_type": "stream",
          "text": []
        },
        {
          "name": "stdout",
          "output_type": "stream",
          "text": [
            "Training: 109/ 250\n"
          ]
        },
        {
          "name": "stderr",
          "output_type": "stream",
          "text": []
        },
        {
          "name": "stdout",
          "output_type": "stream",
          "text": [
            "Training: 110/ 250\n"
          ]
        },
        {
          "name": "stderr",
          "output_type": "stream",
          "text": []
        },
        {
          "name": "stdout",
          "output_type": "stream",
          "text": [
            "Training: 111/ 250\n"
          ]
        },
        {
          "name": "stderr",
          "output_type": "stream",
          "text": []
        },
        {
          "name": "stdout",
          "output_type": "stream",
          "text": [
            "Training: 112/ 250\n"
          ]
        },
        {
          "name": "stderr",
          "output_type": "stream",
          "text": []
        },
        {
          "name": "stdout",
          "output_type": "stream",
          "text": [
            "Training: 113/ 250\n"
          ]
        },
        {
          "name": "stderr",
          "output_type": "stream",
          "text": []
        },
        {
          "name": "stdout",
          "output_type": "stream",
          "text": [
            "Training: 114/ 250\n"
          ]
        },
        {
          "name": "stderr",
          "output_type": "stream",
          "text": []
        },
        {
          "name": "stdout",
          "output_type": "stream",
          "text": [
            "Training: 115/ 250\n"
          ]
        },
        {
          "name": "stderr",
          "output_type": "stream",
          "text": []
        },
        {
          "name": "stdout",
          "output_type": "stream",
          "text": [
            "Training: 116/ 250\n"
          ]
        },
        {
          "name": "stderr",
          "output_type": "stream",
          "text": []
        },
        {
          "name": "stdout",
          "output_type": "stream",
          "text": [
            "Training: 117/ 250\n"
          ]
        },
        {
          "name": "stderr",
          "output_type": "stream",
          "text": []
        },
        {
          "name": "stdout",
          "output_type": "stream",
          "text": [
            "Training: 118/ 250\n"
          ]
        },
        {
          "name": "stderr",
          "output_type": "stream",
          "text": []
        },
        {
          "name": "stdout",
          "output_type": "stream",
          "text": [
            "Training: 119/ 250\n"
          ]
        },
        {
          "name": "stderr",
          "output_type": "stream",
          "text": []
        },
        {
          "name": "stdout",
          "output_type": "stream",
          "text": [
            "Training: 120/ 250\n"
          ]
        },
        {
          "name": "stderr",
          "output_type": "stream",
          "text": []
        },
        {
          "name": "stdout",
          "output_type": "stream",
          "text": [
            "Training: 121/ 250\n"
          ]
        },
        {
          "name": "stderr",
          "output_type": "stream",
          "text": []
        },
        {
          "name": "stdout",
          "output_type": "stream",
          "text": [
            "Training: 122/ 250\n"
          ]
        },
        {
          "name": "stderr",
          "output_type": "stream",
          "text": []
        },
        {
          "name": "stdout",
          "output_type": "stream",
          "text": [
            "Training: 123/ 250\n"
          ]
        },
        {
          "name": "stderr",
          "output_type": "stream",
          "text": []
        },
        {
          "name": "stdout",
          "output_type": "stream",
          "text": [
            "Training: 124/ 250\n"
          ]
        },
        {
          "name": "stderr",
          "output_type": "stream",
          "text": []
        },
        {
          "name": "stdout",
          "output_type": "stream",
          "text": [
            "Training: 125/ 250\n"
          ]
        },
        {
          "name": "stderr",
          "output_type": "stream",
          "text": []
        },
        {
          "name": "stdout",
          "output_type": "stream",
          "text": [
            "Training: 126/ 250\n"
          ]
        },
        {
          "name": "stderr",
          "output_type": "stream",
          "text": []
        },
        {
          "name": "stdout",
          "output_type": "stream",
          "text": [
            "Training: 127/ 250\n"
          ]
        },
        {
          "name": "stderr",
          "output_type": "stream",
          "text": []
        },
        {
          "name": "stdout",
          "output_type": "stream",
          "text": [
            "Training: 128/ 250\n"
          ]
        },
        {
          "name": "stderr",
          "output_type": "stream",
          "text": []
        },
        {
          "name": "stdout",
          "output_type": "stream",
          "text": [
            "Training: 129/ 250\n"
          ]
        },
        {
          "name": "stderr",
          "output_type": "stream",
          "text": []
        },
        {
          "name": "stdout",
          "output_type": "stream",
          "text": [
            "Training: 130/ 250\n"
          ]
        },
        {
          "name": "stderr",
          "output_type": "stream",
          "text": []
        },
        {
          "name": "stdout",
          "output_type": "stream",
          "text": [
            "Training: 131/ 250\n"
          ]
        },
        {
          "name": "stderr",
          "output_type": "stream",
          "text": []
        },
        {
          "name": "stdout",
          "output_type": "stream",
          "text": [
            "Training: 132/ 250\n"
          ]
        },
        {
          "name": "stderr",
          "output_type": "stream",
          "text": []
        },
        {
          "name": "stdout",
          "output_type": "stream",
          "text": [
            "Training: 133/ 250\n"
          ]
        },
        {
          "name": "stderr",
          "output_type": "stream",
          "text": []
        },
        {
          "name": "stdout",
          "output_type": "stream",
          "text": [
            "Training: 134/ 250\n"
          ]
        },
        {
          "name": "stderr",
          "output_type": "stream",
          "text": []
        },
        {
          "name": "stdout",
          "output_type": "stream",
          "text": [
            "Training: 135/ 250\n"
          ]
        },
        {
          "name": "stderr",
          "output_type": "stream",
          "text": []
        },
        {
          "name": "stdout",
          "output_type": "stream",
          "text": [
            "Training: 136/ 250\n"
          ]
        },
        {
          "name": "stderr",
          "output_type": "stream",
          "text": []
        },
        {
          "name": "stdout",
          "output_type": "stream",
          "text": [
            "Training: 137/ 250\n"
          ]
        },
        {
          "name": "stderr",
          "output_type": "stream",
          "text": []
        },
        {
          "name": "stdout",
          "output_type": "stream",
          "text": [
            "Training: 138/ 250\n"
          ]
        },
        {
          "name": "stderr",
          "output_type": "stream",
          "text": []
        },
        {
          "name": "stdout",
          "output_type": "stream",
          "text": [
            "Training: 139/ 250\n"
          ]
        },
        {
          "name": "stderr",
          "output_type": "stream",
          "text": []
        },
        {
          "name": "stdout",
          "output_type": "stream",
          "text": [
            "Training: 140/ 250\n"
          ]
        },
        {
          "name": "stderr",
          "output_type": "stream",
          "text": []
        },
        {
          "name": "stdout",
          "output_type": "stream",
          "text": [
            "Training: 141/ 250\n"
          ]
        },
        {
          "name": "stderr",
          "output_type": "stream",
          "text": []
        },
        {
          "name": "stdout",
          "output_type": "stream",
          "text": [
            "Training: 142/ 250\n"
          ]
        },
        {
          "name": "stderr",
          "output_type": "stream",
          "text": []
        },
        {
          "name": "stdout",
          "output_type": "stream",
          "text": [
            "Training: 143/ 250\n"
          ]
        },
        {
          "name": "stderr",
          "output_type": "stream",
          "text": []
        },
        {
          "name": "stdout",
          "output_type": "stream",
          "text": [
            "Training: 144/ 250\n"
          ]
        },
        {
          "name": "stderr",
          "output_type": "stream",
          "text": []
        },
        {
          "name": "stdout",
          "output_type": "stream",
          "text": [
            "Training: 145/ 250\n"
          ]
        },
        {
          "name": "stderr",
          "output_type": "stream",
          "text": []
        },
        {
          "name": "stdout",
          "output_type": "stream",
          "text": [
            "Training: 146/ 250\n"
          ]
        },
        {
          "name": "stderr",
          "output_type": "stream",
          "text": []
        },
        {
          "name": "stdout",
          "output_type": "stream",
          "text": [
            "Training: 147/ 250\n"
          ]
        },
        {
          "name": "stderr",
          "output_type": "stream",
          "text": []
        },
        {
          "name": "stdout",
          "output_type": "stream",
          "text": [
            "Training: 148/ 250\n"
          ]
        },
        {
          "name": "stderr",
          "output_type": "stream",
          "text": []
        },
        {
          "name": "stdout",
          "output_type": "stream",
          "text": [
            "Training: 149/ 250\n"
          ]
        },
        {
          "name": "stderr",
          "output_type": "stream",
          "text": []
        },
        {
          "name": "stdout",
          "output_type": "stream",
          "text": [
            "Training: 150/ 250\n"
          ]
        },
        {
          "name": "stderr",
          "output_type": "stream",
          "text": []
        },
        {
          "name": "stdout",
          "output_type": "stream",
          "text": [
            "Training: 151/ 250\n"
          ]
        },
        {
          "name": "stderr",
          "output_type": "stream",
          "text": []
        },
        {
          "name": "stdout",
          "output_type": "stream",
          "text": [
            "Training: 152/ 250\n"
          ]
        },
        {
          "name": "stderr",
          "output_type": "stream",
          "text": []
        },
        {
          "name": "stdout",
          "output_type": "stream",
          "text": [
            "Training: 153/ 250\n"
          ]
        },
        {
          "name": "stderr",
          "output_type": "stream",
          "text": []
        },
        {
          "name": "stdout",
          "output_type": "stream",
          "text": [
            "Training: 154/ 250\n"
          ]
        },
        {
          "name": "stderr",
          "output_type": "stream",
          "text": []
        },
        {
          "name": "stdout",
          "output_type": "stream",
          "text": [
            "Training: 155/ 250\n"
          ]
        },
        {
          "name": "stderr",
          "output_type": "stream",
          "text": []
        },
        {
          "name": "stdout",
          "output_type": "stream",
          "text": [
            "Training: 156/ 250\n"
          ]
        },
        {
          "name": "stderr",
          "output_type": "stream",
          "text": []
        },
        {
          "name": "stdout",
          "output_type": "stream",
          "text": [
            "Training: 157/ 250\n"
          ]
        },
        {
          "name": "stderr",
          "output_type": "stream",
          "text": []
        },
        {
          "name": "stdout",
          "output_type": "stream",
          "text": [
            "Training: 158/ 250\n"
          ]
        },
        {
          "name": "stderr",
          "output_type": "stream",
          "text": []
        },
        {
          "name": "stdout",
          "output_type": "stream",
          "text": [
            "Training: 159/ 250\n"
          ]
        },
        {
          "name": "stderr",
          "output_type": "stream",
          "text": []
        },
        {
          "name": "stdout",
          "output_type": "stream",
          "text": [
            "Training: 160/ 250\n"
          ]
        },
        {
          "name": "stderr",
          "output_type": "stream",
          "text": []
        },
        {
          "name": "stdout",
          "output_type": "stream",
          "text": [
            "Training: 161/ 250\n"
          ]
        },
        {
          "name": "stderr",
          "output_type": "stream",
          "text": []
        },
        {
          "name": "stdout",
          "output_type": "stream",
          "text": [
            "Training: 162/ 250\n"
          ]
        },
        {
          "name": "stderr",
          "output_type": "stream",
          "text": []
        },
        {
          "name": "stdout",
          "output_type": "stream",
          "text": [
            "Training: 163/ 250\n"
          ]
        },
        {
          "name": "stderr",
          "output_type": "stream",
          "text": []
        },
        {
          "name": "stdout",
          "output_type": "stream",
          "text": [
            "Training: 164/ 250\n"
          ]
        },
        {
          "name": "stderr",
          "output_type": "stream",
          "text": []
        },
        {
          "name": "stdout",
          "output_type": "stream",
          "text": [
            "Training: 165/ 250\n"
          ]
        },
        {
          "name": "stderr",
          "output_type": "stream",
          "text": []
        },
        {
          "name": "stdout",
          "output_type": "stream",
          "text": [
            "Training: 166/ 250\n"
          ]
        },
        {
          "name": "stderr",
          "output_type": "stream",
          "text": []
        },
        {
          "name": "stdout",
          "output_type": "stream",
          "text": [
            "Training: 167/ 250\n"
          ]
        },
        {
          "name": "stderr",
          "output_type": "stream",
          "text": []
        },
        {
          "name": "stdout",
          "output_type": "stream",
          "text": [
            "Training: 168/ 250\n"
          ]
        },
        {
          "name": "stderr",
          "output_type": "stream",
          "text": []
        },
        {
          "name": "stdout",
          "output_type": "stream",
          "text": [
            "Training: 169/ 250\n"
          ]
        },
        {
          "name": "stderr",
          "output_type": "stream",
          "text": []
        },
        {
          "name": "stdout",
          "output_type": "stream",
          "text": [
            "Training: 170/ 250\n"
          ]
        },
        {
          "name": "stderr",
          "output_type": "stream",
          "text": []
        },
        {
          "name": "stdout",
          "output_type": "stream",
          "text": [
            "Training: 171/ 250\n"
          ]
        },
        {
          "name": "stderr",
          "output_type": "stream",
          "text": []
        },
        {
          "name": "stdout",
          "output_type": "stream",
          "text": [
            "Training: 172/ 250\n"
          ]
        },
        {
          "name": "stderr",
          "output_type": "stream",
          "text": []
        },
        {
          "name": "stdout",
          "output_type": "stream",
          "text": [
            "Training: 173/ 250\n"
          ]
        },
        {
          "name": "stderr",
          "output_type": "stream",
          "text": []
        },
        {
          "name": "stdout",
          "output_type": "stream",
          "text": [
            "Training: 174/ 250\n"
          ]
        },
        {
          "name": "stderr",
          "output_type": "stream",
          "text": []
        },
        {
          "name": "stdout",
          "output_type": "stream",
          "text": [
            "Training: 175/ 250\n"
          ]
        },
        {
          "name": "stderr",
          "output_type": "stream",
          "text": []
        },
        {
          "name": "stdout",
          "output_type": "stream",
          "text": [
            "Training: 176/ 250\n"
          ]
        },
        {
          "name": "stderr",
          "output_type": "stream",
          "text": []
        },
        {
          "name": "stdout",
          "output_type": "stream",
          "text": [
            "Training: 177/ 250\n"
          ]
        },
        {
          "name": "stderr",
          "output_type": "stream",
          "text": []
        },
        {
          "name": "stdout",
          "output_type": "stream",
          "text": [
            "Training: 178/ 250\n"
          ]
        },
        {
          "name": "stderr",
          "output_type": "stream",
          "text": []
        },
        {
          "name": "stdout",
          "output_type": "stream",
          "text": [
            "Training: 179/ 250\n"
          ]
        },
        {
          "name": "stderr",
          "output_type": "stream",
          "text": []
        },
        {
          "name": "stdout",
          "output_type": "stream",
          "text": [
            "Training: 180/ 250\n"
          ]
        },
        {
          "name": "stderr",
          "output_type": "stream",
          "text": []
        },
        {
          "name": "stdout",
          "output_type": "stream",
          "text": [
            "Training: 181/ 250\n"
          ]
        },
        {
          "name": "stderr",
          "output_type": "stream",
          "text": []
        },
        {
          "name": "stdout",
          "output_type": "stream",
          "text": [
            "Training: 182/ 250\n"
          ]
        },
        {
          "name": "stderr",
          "output_type": "stream",
          "text": []
        },
        {
          "name": "stdout",
          "output_type": "stream",
          "text": [
            "Training: 183/ 250\n"
          ]
        },
        {
          "name": "stderr",
          "output_type": "stream",
          "text": []
        },
        {
          "name": "stdout",
          "output_type": "stream",
          "text": [
            "Training: 184/ 250\n"
          ]
        },
        {
          "name": "stderr",
          "output_type": "stream",
          "text": []
        },
        {
          "name": "stdout",
          "output_type": "stream",
          "text": [
            "Training: 185/ 250\n"
          ]
        },
        {
          "name": "stderr",
          "output_type": "stream",
          "text": []
        },
        {
          "name": "stdout",
          "output_type": "stream",
          "text": [
            "Training: 186/ 250\n"
          ]
        },
        {
          "name": "stderr",
          "output_type": "stream",
          "text": []
        },
        {
          "name": "stdout",
          "output_type": "stream",
          "text": [
            "Training: 187/ 250\n"
          ]
        },
        {
          "name": "stderr",
          "output_type": "stream",
          "text": []
        },
        {
          "name": "stdout",
          "output_type": "stream",
          "text": [
            "Training: 188/ 250\n"
          ]
        },
        {
          "name": "stderr",
          "output_type": "stream",
          "text": []
        },
        {
          "name": "stdout",
          "output_type": "stream",
          "text": [
            "Training: 189/ 250\n"
          ]
        },
        {
          "name": "stderr",
          "output_type": "stream",
          "text": []
        },
        {
          "name": "stdout",
          "output_type": "stream",
          "text": [
            "Training: 190/ 250\n"
          ]
        },
        {
          "name": "stderr",
          "output_type": "stream",
          "text": []
        },
        {
          "name": "stdout",
          "output_type": "stream",
          "text": [
            "Training: 191/ 250\n"
          ]
        },
        {
          "name": "stderr",
          "output_type": "stream",
          "text": []
        },
        {
          "name": "stdout",
          "output_type": "stream",
          "text": [
            "Training: 192/ 250\n"
          ]
        },
        {
          "name": "stderr",
          "output_type": "stream",
          "text": []
        },
        {
          "name": "stdout",
          "output_type": "stream",
          "text": [
            "Training: 193/ 250\n"
          ]
        },
        {
          "name": "stderr",
          "output_type": "stream",
          "text": []
        },
        {
          "name": "stdout",
          "output_type": "stream",
          "text": [
            "Training: 194/ 250\n"
          ]
        },
        {
          "name": "stderr",
          "output_type": "stream",
          "text": []
        },
        {
          "name": "stdout",
          "output_type": "stream",
          "text": [
            "Training: 195/ 250\n"
          ]
        },
        {
          "name": "stderr",
          "output_type": "stream",
          "text": []
        },
        {
          "name": "stdout",
          "output_type": "stream",
          "text": [
            "Training: 196/ 250\n"
          ]
        },
        {
          "name": "stderr",
          "output_type": "stream",
          "text": []
        },
        {
          "name": "stdout",
          "output_type": "stream",
          "text": [
            "Training: 197/ 250\n"
          ]
        },
        {
          "name": "stderr",
          "output_type": "stream",
          "text": []
        },
        {
          "name": "stdout",
          "output_type": "stream",
          "text": [
            "Training: 198/ 250\n"
          ]
        },
        {
          "name": "stderr",
          "output_type": "stream",
          "text": []
        },
        {
          "name": "stdout",
          "output_type": "stream",
          "text": [
            "Training: 199/ 250\n"
          ]
        },
        {
          "name": "stderr",
          "output_type": "stream",
          "text": []
        },
        {
          "name": "stdout",
          "output_type": "stream",
          "text": [
            "Training: 200/ 250\n"
          ]
        },
        {
          "name": "stderr",
          "output_type": "stream",
          "text": []
        },
        {
          "name": "stdout",
          "output_type": "stream",
          "text": [
            "Training: 201/ 250\n"
          ]
        },
        {
          "name": "stderr",
          "output_type": "stream",
          "text": []
        },
        {
          "name": "stdout",
          "output_type": "stream",
          "text": [
            "Training: 202/ 250\n"
          ]
        },
        {
          "name": "stderr",
          "output_type": "stream",
          "text": []
        },
        {
          "name": "stdout",
          "output_type": "stream",
          "text": [
            "Training: 203/ 250\n"
          ]
        },
        {
          "name": "stderr",
          "output_type": "stream",
          "text": []
        },
        {
          "name": "stdout",
          "output_type": "stream",
          "text": [
            "Training: 204/ 250\n"
          ]
        },
        {
          "name": "stderr",
          "output_type": "stream",
          "text": []
        },
        {
          "name": "stdout",
          "output_type": "stream",
          "text": [
            "Training: 205/ 250\n"
          ]
        },
        {
          "name": "stderr",
          "output_type": "stream",
          "text": []
        },
        {
          "name": "stdout",
          "output_type": "stream",
          "text": [
            "Training: 206/ 250\n"
          ]
        },
        {
          "name": "stderr",
          "output_type": "stream",
          "text": []
        },
        {
          "name": "stdout",
          "output_type": "stream",
          "text": [
            "Training: 207/ 250\n"
          ]
        },
        {
          "name": "stderr",
          "output_type": "stream",
          "text": []
        },
        {
          "name": "stdout",
          "output_type": "stream",
          "text": [
            "Training: 208/ 250\n"
          ]
        },
        {
          "name": "stderr",
          "output_type": "stream",
          "text": []
        },
        {
          "name": "stdout",
          "output_type": "stream",
          "text": [
            "Training: 209/ 250\n"
          ]
        },
        {
          "name": "stderr",
          "output_type": "stream",
          "text": []
        },
        {
          "name": "stdout",
          "output_type": "stream",
          "text": [
            "Training: 210/ 250\n"
          ]
        },
        {
          "name": "stderr",
          "output_type": "stream",
          "text": []
        },
        {
          "name": "stdout",
          "output_type": "stream",
          "text": [
            "Training: 211/ 250\n"
          ]
        },
        {
          "name": "stderr",
          "output_type": "stream",
          "text": []
        },
        {
          "name": "stdout",
          "output_type": "stream",
          "text": [
            "Training: 212/ 250\n"
          ]
        },
        {
          "name": "stderr",
          "output_type": "stream",
          "text": []
        },
        {
          "name": "stdout",
          "output_type": "stream",
          "text": [
            "Training: 213/ 250\n"
          ]
        },
        {
          "name": "stderr",
          "output_type": "stream",
          "text": []
        },
        {
          "name": "stdout",
          "output_type": "stream",
          "text": [
            "Training: 214/ 250\n"
          ]
        },
        {
          "name": "stderr",
          "output_type": "stream",
          "text": []
        },
        {
          "name": "stdout",
          "output_type": "stream",
          "text": [
            "Training: 215/ 250\n"
          ]
        },
        {
          "name": "stderr",
          "output_type": "stream",
          "text": []
        },
        {
          "name": "stdout",
          "output_type": "stream",
          "text": [
            "Training: 216/ 250\n"
          ]
        },
        {
          "name": "stderr",
          "output_type": "stream",
          "text": []
        },
        {
          "name": "stdout",
          "output_type": "stream",
          "text": [
            "Training: 217/ 250\n"
          ]
        },
        {
          "name": "stderr",
          "output_type": "stream",
          "text": []
        },
        {
          "name": "stdout",
          "output_type": "stream",
          "text": [
            "Training: 218/ 250\n"
          ]
        },
        {
          "name": "stderr",
          "output_type": "stream",
          "text": []
        },
        {
          "name": "stdout",
          "output_type": "stream",
          "text": [
            "Training: 219/ 250\n"
          ]
        },
        {
          "name": "stderr",
          "output_type": "stream",
          "text": []
        },
        {
          "name": "stdout",
          "output_type": "stream",
          "text": [
            "Training: 220/ 250\n"
          ]
        },
        {
          "name": "stderr",
          "output_type": "stream",
          "text": []
        },
        {
          "name": "stdout",
          "output_type": "stream",
          "text": [
            "Training: 221/ 250\n"
          ]
        },
        {
          "name": "stderr",
          "output_type": "stream",
          "text": []
        },
        {
          "name": "stdout",
          "output_type": "stream",
          "text": [
            "Training: 222/ 250\n"
          ]
        },
        {
          "name": "stderr",
          "output_type": "stream",
          "text": []
        },
        {
          "name": "stdout",
          "output_type": "stream",
          "text": [
            "Training: 223/ 250\n"
          ]
        },
        {
          "name": "stderr",
          "output_type": "stream",
          "text": []
        },
        {
          "name": "stdout",
          "output_type": "stream",
          "text": [
            "Training: 224/ 250\n"
          ]
        },
        {
          "name": "stderr",
          "output_type": "stream",
          "text": []
        },
        {
          "name": "stdout",
          "output_type": "stream",
          "text": [
            "Training: 225/ 250\n"
          ]
        },
        {
          "name": "stderr",
          "output_type": "stream",
          "text": []
        },
        {
          "name": "stdout",
          "output_type": "stream",
          "text": [
            "Training: 226/ 250\n"
          ]
        },
        {
          "name": "stderr",
          "output_type": "stream",
          "text": []
        },
        {
          "name": "stdout",
          "output_type": "stream",
          "text": [
            "Training: 227/ 250\n"
          ]
        },
        {
          "name": "stderr",
          "output_type": "stream",
          "text": []
        },
        {
          "name": "stdout",
          "output_type": "stream",
          "text": [
            "Training: 228/ 250\n"
          ]
        },
        {
          "name": "stderr",
          "output_type": "stream",
          "text": []
        },
        {
          "name": "stdout",
          "output_type": "stream",
          "text": [
            "Training: 229/ 250\n"
          ]
        },
        {
          "name": "stderr",
          "output_type": "stream",
          "text": []
        },
        {
          "name": "stdout",
          "output_type": "stream",
          "text": [
            "Training: 230/ 250\n"
          ]
        },
        {
          "name": "stderr",
          "output_type": "stream",
          "text": []
        },
        {
          "name": "stdout",
          "output_type": "stream",
          "text": [
            "Training: 231/ 250\n"
          ]
        },
        {
          "name": "stderr",
          "output_type": "stream",
          "text": []
        },
        {
          "name": "stdout",
          "output_type": "stream",
          "text": [
            "Training: 232/ 250\n"
          ]
        },
        {
          "name": "stderr",
          "output_type": "stream",
          "text": []
        },
        {
          "name": "stdout",
          "output_type": "stream",
          "text": [
            "Training: 233/ 250\n"
          ]
        },
        {
          "name": "stderr",
          "output_type": "stream",
          "text": []
        },
        {
          "name": "stdout",
          "output_type": "stream",
          "text": [
            "Training: 234/ 250\n"
          ]
        },
        {
          "name": "stderr",
          "output_type": "stream",
          "text": []
        },
        {
          "name": "stdout",
          "output_type": "stream",
          "text": [
            "Training: 235/ 250\n"
          ]
        },
        {
          "name": "stderr",
          "output_type": "stream",
          "text": []
        },
        {
          "name": "stdout",
          "output_type": "stream",
          "text": [
            "Training: 236/ 250\n"
          ]
        },
        {
          "name": "stderr",
          "output_type": "stream",
          "text": []
        },
        {
          "name": "stdout",
          "output_type": "stream",
          "text": [
            "Training: 237/ 250\n"
          ]
        },
        {
          "name": "stderr",
          "output_type": "stream",
          "text": []
        },
        {
          "name": "stdout",
          "output_type": "stream",
          "text": [
            "Training: 238/ 250\n"
          ]
        },
        {
          "name": "stderr",
          "output_type": "stream",
          "text": []
        },
        {
          "name": "stdout",
          "output_type": "stream",
          "text": [
            "Training: 239/ 250\n"
          ]
        },
        {
          "name": "stderr",
          "output_type": "stream",
          "text": []
        },
        {
          "name": "stdout",
          "output_type": "stream",
          "text": [
            "Training: 240/ 250\n"
          ]
        },
        {
          "name": "stderr",
          "output_type": "stream",
          "text": []
        },
        {
          "name": "stdout",
          "output_type": "stream",
          "text": [
            "Training: 241/ 250\n"
          ]
        },
        {
          "name": "stderr",
          "output_type": "stream",
          "text": []
        },
        {
          "name": "stdout",
          "output_type": "stream",
          "text": [
            "Training: 242/ 250\n"
          ]
        },
        {
          "name": "stderr",
          "output_type": "stream",
          "text": []
        },
        {
          "name": "stdout",
          "output_type": "stream",
          "text": [
            "Training: 243/ 250\n"
          ]
        },
        {
          "name": "stderr",
          "output_type": "stream",
          "text": []
        },
        {
          "name": "stdout",
          "output_type": "stream",
          "text": [
            "Training: 244/ 250\n"
          ]
        },
        {
          "name": "stderr",
          "output_type": "stream",
          "text": []
        },
        {
          "name": "stdout",
          "output_type": "stream",
          "text": [
            "Training: 245/ 250\n"
          ]
        },
        {
          "name": "stderr",
          "output_type": "stream",
          "text": []
        },
        {
          "name": "stdout",
          "output_type": "stream",
          "text": [
            "Training: 246/ 250\n"
          ]
        },
        {
          "name": "stderr",
          "output_type": "stream",
          "text": []
        },
        {
          "name": "stdout",
          "output_type": "stream",
          "text": [
            "Training: 247/ 250\n"
          ]
        },
        {
          "name": "stderr",
          "output_type": "stream",
          "text": []
        },
        {
          "name": "stdout",
          "output_type": "stream",
          "text": [
            "Training: 248/ 250\n"
          ]
        },
        {
          "name": "stderr",
          "output_type": "stream",
          "text": []
        },
        {
          "name": "stdout",
          "output_type": "stream",
          "text": [
            "Training: 249/ 250\n"
          ]
        },
        {
          "name": "stderr",
          "output_type": "stream",
          "text": []
        },
        {
          "name": "stdout",
          "output_type": "stream",
          "text": [
            "Training: 250/ 250\n"
          ]
        },
        {
          "name": "stderr",
          "output_type": "stream",
          "text": []
        }
      ],
      "source": [
        "if LOAD_TRAINED:\n",
        "    net.load_state_dict(torch.load('net_final.pth.tar'))\n",
        "    print('LOAD OK')\n",
        "else:\n",
        "    t_start = time.time()\n",
        "    out_dic = model.train()\n",
        "    t_end = time.time()\n",
        "    print(out_dic)\n",
        "    print('Elapsed time:')\n",
        "    print(t_end - t_start)"
      ]
    },
    {
      "cell_type": "code",
      "execution_count": null,
      "metadata": {
        "id": "f77Nz5HPFgJa"
      },
      "outputs": [],
      "source": [
        "if not LOAD_TRAINED:\n",
        "    torch.save(model.model.state_dict(), 'net_final.pth.tar')\n",
        "    print('SAVE OK')"
      ]
    },
    {
      "cell_type": "code",
      "execution_count": null,
      "metadata": {
        "id": "lpK78RwyFgJb"
      },
      "outputs": [
        {
          "name": "stderr",
          "output_type": "stream",
          "text": [
            "0it [00:00, ?it/s]/var/folders/t6/ntsczqdj1036typ96jgly34m0000gn/T/ipykernel_63371/3708903272.py:17: UserWarning: FC-Siam-diff-test00001.png.png is a low contrast image\n",
            "  io.imsave(f'{net_name}-{name}.png',I)\n",
            "Lossy conversion from int64 to uint8. Range [0, 255]. Convert image to uint8 prior to saving to suppress this warning.\n",
            "1it [00:00,  5.72it/s]/var/folders/t6/ntsczqdj1036typ96jgly34m0000gn/T/ipykernel_63371/3708903272.py:17: UserWarning: FC-Siam-diff-test00002.png.png is a low contrast image\n",
            "  io.imsave(f'{net_name}-{name}.png',I)\n",
            "Lossy conversion from int64 to uint8. Range [0, 255]. Convert image to uint8 prior to saving to suppress this warning.\n",
            "2it [00:00,  5.65it/s]/var/folders/t6/ntsczqdj1036typ96jgly34m0000gn/T/ipykernel_63371/3708903272.py:17: UserWarning: FC-Siam-diff-test00003.png.png is a low contrast image\n",
            "  io.imsave(f'{net_name}-{name}.png',I)\n",
            "Lossy conversion from int64 to uint8. Range [0, 255]. Convert image to uint8 prior to saving to suppress this warning.\n",
            "3it [00:00,  6.49it/s]/var/folders/t6/ntsczqdj1036typ96jgly34m0000gn/T/ipykernel_63371/3708903272.py:17: UserWarning: FC-Siam-diff-test00004.png.png is a low contrast image\n",
            "  io.imsave(f'{net_name}-{name}.png',I)\n",
            "Lossy conversion from int64 to uint8. Range [0, 255]. Convert image to uint8 prior to saving to suppress this warning.\n",
            "4it [00:00,  6.44it/s]/var/folders/t6/ntsczqdj1036typ96jgly34m0000gn/T/ipykernel_63371/3708903272.py:17: UserWarning: FC-Siam-diff-test00005.png.png is a low contrast image\n",
            "  io.imsave(f'{net_name}-{name}.png',I)\n",
            "Lossy conversion from int64 to uint8. Range [0, 255]. Convert image to uint8 prior to saving to suppress this warning.\n",
            "5it [00:00,  6.62it/s]/var/folders/t6/ntsczqdj1036typ96jgly34m0000gn/T/ipykernel_63371/3708903272.py:17: UserWarning: FC-Siam-diff-test00006.png.png is a low contrast image\n",
            "  io.imsave(f'{net_name}-{name}.png',I)\n",
            "Lossy conversion from int64 to uint8. Range [0, 255]. Convert image to uint8 prior to saving to suppress this warning.\n",
            "6it [00:00,  6.56it/s]/var/folders/t6/ntsczqdj1036typ96jgly34m0000gn/T/ipykernel_63371/3708903272.py:17: UserWarning: FC-Siam-diff-test00007.png.png is a low contrast image\n",
            "  io.imsave(f'{net_name}-{name}.png',I)\n",
            "Lossy conversion from int64 to uint8. Range [0, 255]. Convert image to uint8 prior to saving to suppress this warning.\n",
            "7it [00:01,  6.80it/s]/var/folders/t6/ntsczqdj1036typ96jgly34m0000gn/T/ipykernel_63371/3708903272.py:17: UserWarning: FC-Siam-diff-test00008.png.png is a low contrast image\n",
            "  io.imsave(f'{net_name}-{name}.png',I)\n",
            "Lossy conversion from int64 to uint8. Range [0, 255]. Convert image to uint8 prior to saving to suppress this warning.\n",
            "8it [00:01,  7.02it/s]/var/folders/t6/ntsczqdj1036typ96jgly34m0000gn/T/ipykernel_63371/3708903272.py:17: UserWarning: FC-Siam-diff-test00009.png.png is a low contrast image\n",
            "  io.imsave(f'{net_name}-{name}.png',I)\n",
            "Lossy conversion from int64 to uint8. Range [0, 255]. Convert image to uint8 prior to saving to suppress this warning.\n",
            "9it [00:01,  6.94it/s]/var/folders/t6/ntsczqdj1036typ96jgly34m0000gn/T/ipykernel_63371/3708903272.py:17: UserWarning: FC-Siam-diff-test00010.png.png is a low contrast image\n",
            "  io.imsave(f'{net_name}-{name}.png',I)\n",
            "Lossy conversion from int64 to uint8. Range [0, 255]. Convert image to uint8 prior to saving to suppress this warning.\n",
            "10it [00:01,  6.88it/s]/var/folders/t6/ntsczqdj1036typ96jgly34m0000gn/T/ipykernel_63371/3708903272.py:17: UserWarning: FC-Siam-diff-test00011.png.png is a low contrast image\n",
            "  io.imsave(f'{net_name}-{name}.png',I)\n",
            "Lossy conversion from int64 to uint8. Range [0, 255]. Convert image to uint8 prior to saving to suppress this warning.\n",
            "11it [00:01,  6.71it/s]/var/folders/t6/ntsczqdj1036typ96jgly34m0000gn/T/ipykernel_63371/3708903272.py:17: UserWarning: FC-Siam-diff-test00012.png.png is a low contrast image\n",
            "  io.imsave(f'{net_name}-{name}.png',I)\n",
            "Lossy conversion from int64 to uint8. Range [0, 255]. Convert image to uint8 prior to saving to suppress this warning.\n",
            "12it [00:01,  7.03it/s]/var/folders/t6/ntsczqdj1036typ96jgly34m0000gn/T/ipykernel_63371/3708903272.py:17: UserWarning: FC-Siam-diff-test00013.png.png is a low contrast image\n",
            "  io.imsave(f'{net_name}-{name}.png',I)\n",
            "Lossy conversion from int64 to uint8. Range [0, 255]. Convert image to uint8 prior to saving to suppress this warning.\n",
            "13it [00:01,  6.86it/s]/var/folders/t6/ntsczqdj1036typ96jgly34m0000gn/T/ipykernel_63371/3708903272.py:17: UserWarning: FC-Siam-diff-test00014.png.png is a low contrast image\n",
            "  io.imsave(f'{net_name}-{name}.png',I)\n",
            "Lossy conversion from int64 to uint8. Range [0, 255]. Convert image to uint8 prior to saving to suppress this warning.\n",
            "14it [00:02,  6.79it/s]/var/folders/t6/ntsczqdj1036typ96jgly34m0000gn/T/ipykernel_63371/3708903272.py:17: UserWarning: FC-Siam-diff-test00015.png.png is a low contrast image\n",
            "  io.imsave(f'{net_name}-{name}.png',I)\n",
            "Lossy conversion from int64 to uint8. Range [0, 255]. Convert image to uint8 prior to saving to suppress this warning.\n",
            "15it [00:02,  6.04it/s]/var/folders/t6/ntsczqdj1036typ96jgly34m0000gn/T/ipykernel_63371/3708903272.py:17: UserWarning: FC-Siam-diff-test00016.png.png is a low contrast image\n",
            "  io.imsave(f'{net_name}-{name}.png',I)\n",
            "Lossy conversion from int64 to uint8. Range [0, 255]. Convert image to uint8 prior to saving to suppress this warning.\n",
            "16it [00:02,  6.47it/s]/var/folders/t6/ntsczqdj1036typ96jgly34m0000gn/T/ipykernel_63371/3708903272.py:17: UserWarning: FC-Siam-diff-test00017.png.png is a low contrast image\n",
            "  io.imsave(f'{net_name}-{name}.png',I)\n",
            "Lossy conversion from int64 to uint8. Range [0, 255]. Convert image to uint8 prior to saving to suppress this warning.\n",
            "17it [00:02,  6.78it/s]/var/folders/t6/ntsczqdj1036typ96jgly34m0000gn/T/ipykernel_63371/3708903272.py:17: UserWarning: FC-Siam-diff-test00018.png.png is a low contrast image\n",
            "  io.imsave(f'{net_name}-{name}.png',I)\n",
            "Lossy conversion from int64 to uint8. Range [0, 255]. Convert image to uint8 prior to saving to suppress this warning.\n",
            "18it [00:02,  6.97it/s]/var/folders/t6/ntsczqdj1036typ96jgly34m0000gn/T/ipykernel_63371/3708903272.py:17: UserWarning: FC-Siam-diff-test00019.png.png is a low contrast image\n",
            "  io.imsave(f'{net_name}-{name}.png',I)\n",
            "Lossy conversion from int64 to uint8. Range [0, 255]. Convert image to uint8 prior to saving to suppress this warning.\n",
            "19it [00:02,  6.92it/s]/var/folders/t6/ntsczqdj1036typ96jgly34m0000gn/T/ipykernel_63371/3708903272.py:17: UserWarning: FC-Siam-diff-test00020.png.png is a low contrast image\n",
            "  io.imsave(f'{net_name}-{name}.png',I)\n",
            "Lossy conversion from int64 to uint8. Range [0, 255]. Convert image to uint8 prior to saving to suppress this warning.\n",
            "20it [00:02,  6.76it/s]/var/folders/t6/ntsczqdj1036typ96jgly34m0000gn/T/ipykernel_63371/3708903272.py:17: UserWarning: FC-Siam-diff-test00021.png.png is a low contrast image\n",
            "  io.imsave(f'{net_name}-{name}.png',I)\n",
            "Lossy conversion from int64 to uint8. Range [0, 255]. Convert image to uint8 prior to saving to suppress this warning.\n",
            "21it [00:03,  6.92it/s]/var/folders/t6/ntsczqdj1036typ96jgly34m0000gn/T/ipykernel_63371/3708903272.py:17: UserWarning: FC-Siam-diff-test00022.png.png is a low contrast image\n",
            "  io.imsave(f'{net_name}-{name}.png',I)\n",
            "Lossy conversion from int64 to uint8. Range [0, 255]. Convert image to uint8 prior to saving to suppress this warning.\n",
            "22it [00:03,  7.10it/s]/var/folders/t6/ntsczqdj1036typ96jgly34m0000gn/T/ipykernel_63371/3708903272.py:17: UserWarning: FC-Siam-diff-test00023.png.png is a low contrast image\n",
            "  io.imsave(f'{net_name}-{name}.png',I)\n",
            "Lossy conversion from int64 to uint8. Range [0, 255]. Convert image to uint8 prior to saving to suppress this warning.\n",
            "23it [00:03,  7.33it/s]/var/folders/t6/ntsczqdj1036typ96jgly34m0000gn/T/ipykernel_63371/3708903272.py:17: UserWarning: FC-Siam-diff-test00024.png.png is a low contrast image\n",
            "  io.imsave(f'{net_name}-{name}.png',I)\n",
            "Lossy conversion from int64 to uint8. Range [0, 255]. Convert image to uint8 prior to saving to suppress this warning.\n",
            "24it [00:03,  7.21it/s]/var/folders/t6/ntsczqdj1036typ96jgly34m0000gn/T/ipykernel_63371/3708903272.py:17: UserWarning: FC-Siam-diff-test00025.png.png is a low contrast image\n",
            "  io.imsave(f'{net_name}-{name}.png',I)\n",
            "Lossy conversion from int64 to uint8. Range [0, 255]. Convert image to uint8 prior to saving to suppress this warning.\n",
            "25it [00:03,  7.39it/s]/var/folders/t6/ntsczqdj1036typ96jgly34m0000gn/T/ipykernel_63371/3708903272.py:17: UserWarning: FC-Siam-diff-test00026.png.png is a low contrast image\n",
            "  io.imsave(f'{net_name}-{name}.png',I)\n",
            "Lossy conversion from int64 to uint8. Range [0, 255]. Convert image to uint8 prior to saving to suppress this warning.\n",
            "26it [00:03,  7.21it/s]/var/folders/t6/ntsczqdj1036typ96jgly34m0000gn/T/ipykernel_63371/3708903272.py:17: UserWarning: FC-Siam-diff-test00027.png.png is a low contrast image\n",
            "  io.imsave(f'{net_name}-{name}.png',I)\n",
            "Lossy conversion from int64 to uint8. Range [0, 255]. Convert image to uint8 prior to saving to suppress this warning.\n",
            "27it [00:03,  7.09it/s]/var/folders/t6/ntsczqdj1036typ96jgly34m0000gn/T/ipykernel_63371/3708903272.py:17: UserWarning: FC-Siam-diff-test00028.png.png is a low contrast image\n",
            "  io.imsave(f'{net_name}-{name}.png',I)\n",
            "Lossy conversion from int64 to uint8. Range [0, 255]. Convert image to uint8 prior to saving to suppress this warning.\n",
            "28it [00:04,  6.98it/s]/var/folders/t6/ntsczqdj1036typ96jgly34m0000gn/T/ipykernel_63371/3708903272.py:17: UserWarning: FC-Siam-diff-test00029.png.png is a low contrast image\n",
            "  io.imsave(f'{net_name}-{name}.png',I)\n",
            "Lossy conversion from int64 to uint8. Range [0, 255]. Convert image to uint8 prior to saving to suppress this warning.\n",
            "29it [00:04,  6.82it/s]/var/folders/t6/ntsczqdj1036typ96jgly34m0000gn/T/ipykernel_63371/3708903272.py:17: UserWarning: FC-Siam-diff-test00030.png.png is a low contrast image\n",
            "  io.imsave(f'{net_name}-{name}.png',I)\n",
            "Lossy conversion from int64 to uint8. Range [0, 255]. Convert image to uint8 prior to saving to suppress this warning.\n",
            "30it [00:04,  6.98it/s]/var/folders/t6/ntsczqdj1036typ96jgly34m0000gn/T/ipykernel_63371/3708903272.py:17: UserWarning: FC-Siam-diff-test00031.png.png is a low contrast image\n",
            "  io.imsave(f'{net_name}-{name}.png',I)\n",
            "Lossy conversion from int64 to uint8. Range [0, 255]. Convert image to uint8 prior to saving to suppress this warning.\n",
            "31it [00:04,  7.03it/s]/var/folders/t6/ntsczqdj1036typ96jgly34m0000gn/T/ipykernel_63371/3708903272.py:17: UserWarning: FC-Siam-diff-test00032.png.png is a low contrast image\n",
            "  io.imsave(f'{net_name}-{name}.png',I)\n",
            "Lossy conversion from int64 to uint8. Range [0, 255]. Convert image to uint8 prior to saving to suppress this warning.\n",
            "32it [00:04,  6.76it/s]/var/folders/t6/ntsczqdj1036typ96jgly34m0000gn/T/ipykernel_63371/3708903272.py:17: UserWarning: FC-Siam-diff-test00033.png.png is a low contrast image\n",
            "  io.imsave(f'{net_name}-{name}.png',I)\n",
            "Lossy conversion from int64 to uint8. Range [0, 255]. Convert image to uint8 prior to saving to suppress this warning.\n",
            "33it [00:04,  7.02it/s]/var/folders/t6/ntsczqdj1036typ96jgly34m0000gn/T/ipykernel_63371/3708903272.py:17: UserWarning: FC-Siam-diff-test00034.png.png is a low contrast image\n",
            "  io.imsave(f'{net_name}-{name}.png',I)\n",
            "Lossy conversion from int64 to uint8. Range [0, 255]. Convert image to uint8 prior to saving to suppress this warning.\n",
            "34it [00:04,  6.87it/s]/var/folders/t6/ntsczqdj1036typ96jgly34m0000gn/T/ipykernel_63371/3708903272.py:17: UserWarning: FC-Siam-diff-test00035.png.png is a low contrast image\n",
            "  io.imsave(f'{net_name}-{name}.png',I)\n",
            "Lossy conversion from int64 to uint8. Range [0, 255]. Convert image to uint8 prior to saving to suppress this warning.\n",
            "35it [00:05,  7.09it/s]/var/folders/t6/ntsczqdj1036typ96jgly34m0000gn/T/ipykernel_63371/3708903272.py:17: UserWarning: FC-Siam-diff-test00036.png.png is a low contrast image\n",
            "  io.imsave(f'{net_name}-{name}.png',I)\n",
            "Lossy conversion from int64 to uint8. Range [0, 255]. Convert image to uint8 prior to saving to suppress this warning.\n",
            "36it [00:05,  7.19it/s]/var/folders/t6/ntsczqdj1036typ96jgly34m0000gn/T/ipykernel_63371/3708903272.py:17: UserWarning: FC-Siam-diff-test00037.png.png is a low contrast image\n",
            "  io.imsave(f'{net_name}-{name}.png',I)\n",
            "Lossy conversion from int64 to uint8. Range [0, 255]. Convert image to uint8 prior to saving to suppress this warning.\n",
            "37it [00:05,  7.00it/s]/var/folders/t6/ntsczqdj1036typ96jgly34m0000gn/T/ipykernel_63371/3708903272.py:17: UserWarning: FC-Siam-diff-test00038.png.png is a low contrast image\n",
            "  io.imsave(f'{net_name}-{name}.png',I)\n",
            "Lossy conversion from int64 to uint8. Range [0, 255]. Convert image to uint8 prior to saving to suppress this warning.\n",
            "38it [00:05,  7.01it/s]/var/folders/t6/ntsczqdj1036typ96jgly34m0000gn/T/ipykernel_63371/3708903272.py:17: UserWarning: FC-Siam-diff-test00039.png.png is a low contrast image\n",
            "  io.imsave(f'{net_name}-{name}.png',I)\n",
            "Lossy conversion from int64 to uint8. Range [0, 255]. Convert image to uint8 prior to saving to suppress this warning.\n",
            "39it [00:05,  7.20it/s]/var/folders/t6/ntsczqdj1036typ96jgly34m0000gn/T/ipykernel_63371/3708903272.py:17: UserWarning: FC-Siam-diff-test00040.png.png is a low contrast image\n",
            "  io.imsave(f'{net_name}-{name}.png',I)\n",
            "Lossy conversion from int64 to uint8. Range [0, 255]. Convert image to uint8 prior to saving to suppress this warning.\n",
            "40it [00:05,  7.12it/s]/var/folders/t6/ntsczqdj1036typ96jgly34m0000gn/T/ipykernel_63371/3708903272.py:17: UserWarning: FC-Siam-diff-test00041.png.png is a low contrast image\n",
            "  io.imsave(f'{net_name}-{name}.png',I)\n",
            "Lossy conversion from int64 to uint8. Range [0, 255]. Convert image to uint8 prior to saving to suppress this warning.\n",
            "41it [00:06,  6.12it/s]/var/folders/t6/ntsczqdj1036typ96jgly34m0000gn/T/ipykernel_63371/3708903272.py:17: UserWarning: FC-Siam-diff-test00042.png.png is a low contrast image\n",
            "  io.imsave(f'{net_name}-{name}.png',I)\n",
            "Lossy conversion from int64 to uint8. Range [0, 255]. Convert image to uint8 prior to saving to suppress this warning.\n",
            "42it [00:06,  6.22it/s]/var/folders/t6/ntsczqdj1036typ96jgly34m0000gn/T/ipykernel_63371/3708903272.py:17: UserWarning: FC-Siam-diff-test00043.png.png is a low contrast image\n",
            "  io.imsave(f'{net_name}-{name}.png',I)\n",
            "Lossy conversion from int64 to uint8. Range [0, 255]. Convert image to uint8 prior to saving to suppress this warning.\n",
            "43it [00:06,  6.50it/s]/var/folders/t6/ntsczqdj1036typ96jgly34m0000gn/T/ipykernel_63371/3708903272.py:17: UserWarning: FC-Siam-diff-test00044.png.png is a low contrast image\n",
            "  io.imsave(f'{net_name}-{name}.png',I)\n",
            "Lossy conversion from int64 to uint8. Range [0, 255]. Convert image to uint8 prior to saving to suppress this warning.\n",
            "44it [00:06,  6.67it/s]/var/folders/t6/ntsczqdj1036typ96jgly34m0000gn/T/ipykernel_63371/3708903272.py:17: UserWarning: FC-Siam-diff-test00045.png.png is a low contrast image\n",
            "  io.imsave(f'{net_name}-{name}.png',I)\n",
            "Lossy conversion from int64 to uint8. Range [0, 255]. Convert image to uint8 prior to saving to suppress this warning.\n",
            "45it [00:06,  6.82it/s]/var/folders/t6/ntsczqdj1036typ96jgly34m0000gn/T/ipykernel_63371/3708903272.py:17: UserWarning: FC-Siam-diff-test00046.png.png is a low contrast image\n",
            "  io.imsave(f'{net_name}-{name}.png',I)\n",
            "Lossy conversion from int64 to uint8. Range [0, 255]. Convert image to uint8 prior to saving to suppress this warning.\n",
            "46it [00:06,  6.83it/s]/var/folders/t6/ntsczqdj1036typ96jgly34m0000gn/T/ipykernel_63371/3708903272.py:17: UserWarning: FC-Siam-diff-test00047.png.png is a low contrast image\n",
            "  io.imsave(f'{net_name}-{name}.png',I)\n",
            "Lossy conversion from int64 to uint8. Range [0, 255]. Convert image to uint8 prior to saving to suppress this warning.\n",
            "47it [00:06,  6.92it/s]/var/folders/t6/ntsczqdj1036typ96jgly34m0000gn/T/ipykernel_63371/3708903272.py:17: UserWarning: FC-Siam-diff-test00048.png.png is a low contrast image\n",
            "  io.imsave(f'{net_name}-{name}.png',I)\n",
            "Lossy conversion from int64 to uint8. Range [0, 255]. Convert image to uint8 prior to saving to suppress this warning.\n",
            "48it [00:07,  7.08it/s]/var/folders/t6/ntsczqdj1036typ96jgly34m0000gn/T/ipykernel_63371/3708903272.py:17: UserWarning: FC-Siam-diff-test00049.png.png is a low contrast image\n",
            "  io.imsave(f'{net_name}-{name}.png',I)\n",
            "Lossy conversion from int64 to uint8. Range [0, 255]. Convert image to uint8 prior to saving to suppress this warning.\n",
            "49it [00:07,  7.09it/s]/var/folders/t6/ntsczqdj1036typ96jgly34m0000gn/T/ipykernel_63371/3708903272.py:17: UserWarning: FC-Siam-diff-test00050.png.png is a low contrast image\n",
            "  io.imsave(f'{net_name}-{name}.png',I)\n",
            "Lossy conversion from int64 to uint8. Range [0, 255]. Convert image to uint8 prior to saving to suppress this warning.\n",
            "50it [00:07,  7.01it/s]/var/folders/t6/ntsczqdj1036typ96jgly34m0000gn/T/ipykernel_63371/3708903272.py:17: UserWarning: FC-Siam-diff-test00051.png.png is a low contrast image\n",
            "  io.imsave(f'{net_name}-{name}.png',I)\n",
            "Lossy conversion from int64 to uint8. Range [0, 255]. Convert image to uint8 prior to saving to suppress this warning.\n",
            "51it [00:07,  6.85it/s]/var/folders/t6/ntsczqdj1036typ96jgly34m0000gn/T/ipykernel_63371/3708903272.py:17: UserWarning: FC-Siam-diff-test00052.png.png is a low contrast image\n",
            "  io.imsave(f'{net_name}-{name}.png',I)\n",
            "Lossy conversion from int64 to uint8. Range [0, 255]. Convert image to uint8 prior to saving to suppress this warning.\n",
            "52it [00:07,  6.92it/s]/var/folders/t6/ntsczqdj1036typ96jgly34m0000gn/T/ipykernel_63371/3708903272.py:17: UserWarning: FC-Siam-diff-test00053.png.png is a low contrast image\n",
            "  io.imsave(f'{net_name}-{name}.png',I)\n",
            "Lossy conversion from int64 to uint8. Range [0, 255]. Convert image to uint8 prior to saving to suppress this warning.\n",
            "53it [00:07,  6.87it/s]/var/folders/t6/ntsczqdj1036typ96jgly34m0000gn/T/ipykernel_63371/3708903272.py:17: UserWarning: FC-Siam-diff-test00054.png.png is a low contrast image\n",
            "  io.imsave(f'{net_name}-{name}.png',I)\n",
            "Lossy conversion from int64 to uint8. Range [0, 255]. Convert image to uint8 prior to saving to suppress this warning.\n",
            "54it [00:07,  6.84it/s]/var/folders/t6/ntsczqdj1036typ96jgly34m0000gn/T/ipykernel_63371/3708903272.py:17: UserWarning: FC-Siam-diff-test00055.png.png is a low contrast image\n",
            "  io.imsave(f'{net_name}-{name}.png',I)\n",
            "Lossy conversion from int64 to uint8. Range [0, 255]. Convert image to uint8 prior to saving to suppress this warning.\n",
            "55it [00:08,  6.75it/s]/var/folders/t6/ntsczqdj1036typ96jgly34m0000gn/T/ipykernel_63371/3708903272.py:17: UserWarning: FC-Siam-diff-test00056.png.png is a low contrast image\n",
            "  io.imsave(f'{net_name}-{name}.png',I)\n",
            "Lossy conversion from int64 to uint8. Range [0, 255]. Convert image to uint8 prior to saving to suppress this warning.\n",
            "56it [00:08,  6.73it/s]/var/folders/t6/ntsczqdj1036typ96jgly34m0000gn/T/ipykernel_63371/3708903272.py:17: UserWarning: FC-Siam-diff-test00057.png.png is a low contrast image\n",
            "  io.imsave(f'{net_name}-{name}.png',I)\n",
            "Lossy conversion from int64 to uint8. Range [0, 255]. Convert image to uint8 prior to saving to suppress this warning.\n",
            "57it [00:08,  6.54it/s]/var/folders/t6/ntsczqdj1036typ96jgly34m0000gn/T/ipykernel_63371/3708903272.py:17: UserWarning: FC-Siam-diff-test00058.png.png is a low contrast image\n",
            "  io.imsave(f'{net_name}-{name}.png',I)\n",
            "Lossy conversion from int64 to uint8. Range [0, 255]. Convert image to uint8 prior to saving to suppress this warning.\n",
            "58it [00:08,  6.51it/s]/var/folders/t6/ntsczqdj1036typ96jgly34m0000gn/T/ipykernel_63371/3708903272.py:17: UserWarning: FC-Siam-diff-test00059.png.png is a low contrast image\n",
            "  io.imsave(f'{net_name}-{name}.png',I)\n",
            "Lossy conversion from int64 to uint8. Range [0, 255]. Convert image to uint8 prior to saving to suppress this warning.\n",
            "59it [00:08,  6.55it/s]/var/folders/t6/ntsczqdj1036typ96jgly34m0000gn/T/ipykernel_63371/3708903272.py:17: UserWarning: FC-Siam-diff-test00060.png.png is a low contrast image\n",
            "  io.imsave(f'{net_name}-{name}.png',I)\n",
            "Lossy conversion from int64 to uint8. Range [0, 255]. Convert image to uint8 prior to saving to suppress this warning.\n",
            "60it [00:08,  6.98it/s]/var/folders/t6/ntsczqdj1036typ96jgly34m0000gn/T/ipykernel_63371/3708903272.py:17: UserWarning: FC-Siam-diff-test00061.png.png is a low contrast image\n",
            "  io.imsave(f'{net_name}-{name}.png',I)\n",
            "Lossy conversion from int64 to uint8. Range [0, 255]. Convert image to uint8 prior to saving to suppress this warning.\n",
            "61it [00:08,  6.99it/s]/var/folders/t6/ntsczqdj1036typ96jgly34m0000gn/T/ipykernel_63371/3708903272.py:17: UserWarning: FC-Siam-diff-test00062.png.png is a low contrast image\n",
            "  io.imsave(f'{net_name}-{name}.png',I)\n",
            "Lossy conversion from int64 to uint8. Range [0, 255]. Convert image to uint8 prior to saving to suppress this warning.\n",
            "62it [00:09,  6.61it/s]/var/folders/t6/ntsczqdj1036typ96jgly34m0000gn/T/ipykernel_63371/3708903272.py:17: UserWarning: FC-Siam-diff-test00063.png.png is a low contrast image\n",
            "  io.imsave(f'{net_name}-{name}.png',I)\n",
            "Lossy conversion from int64 to uint8. Range [0, 255]. Convert image to uint8 prior to saving to suppress this warning.\n",
            "63it [00:09,  6.79it/s]/var/folders/t6/ntsczqdj1036typ96jgly34m0000gn/T/ipykernel_63371/3708903272.py:17: UserWarning: FC-Siam-diff-test00064.png.png is a low contrast image\n",
            "  io.imsave(f'{net_name}-{name}.png',I)\n",
            "64it [00:09,  7.14it/s]/var/folders/t6/ntsczqdj1036typ96jgly34m0000gn/T/ipykernel_63371/3708903272.py:17: UserWarning: FC-Siam-diff-test00065.png.png is a low contrast image\n",
            "  io.imsave(f'{net_name}-{name}.png',I)\n",
            "Lossy conversion from int64 to uint8. Range [0, 255]. Convert image to uint8 prior to saving to suppress this warning.\n",
            "65it [00:09,  7.05it/s]/var/folders/t6/ntsczqdj1036typ96jgly34m0000gn/T/ipykernel_63371/3708903272.py:17: UserWarning: FC-Siam-diff-test00066.png.png is a low contrast image\n",
            "  io.imsave(f'{net_name}-{name}.png',I)\n",
            "Lossy conversion from int64 to uint8. Range [0, 255]. Convert image to uint8 prior to saving to suppress this warning.\n",
            "66it [00:09,  7.24it/s]/var/folders/t6/ntsczqdj1036typ96jgly34m0000gn/T/ipykernel_63371/3708903272.py:17: UserWarning: FC-Siam-diff-test00067.png.png is a low contrast image\n",
            "  io.imsave(f'{net_name}-{name}.png',I)\n",
            "Lossy conversion from int64 to uint8. Range [0, 255]. Convert image to uint8 prior to saving to suppress this warning.\n",
            "67it [00:09,  7.36it/s]/var/folders/t6/ntsczqdj1036typ96jgly34m0000gn/T/ipykernel_63371/3708903272.py:17: UserWarning: FC-Siam-diff-test00068.png.png is a low contrast image\n",
            "  io.imsave(f'{net_name}-{name}.png',I)\n",
            "Lossy conversion from int64 to uint8. Range [0, 255]. Convert image to uint8 prior to saving to suppress this warning.\n",
            "68it [00:09,  7.44it/s]/var/folders/t6/ntsczqdj1036typ96jgly34m0000gn/T/ipykernel_63371/3708903272.py:17: UserWarning: FC-Siam-diff-test00069.png.png is a low contrast image\n",
            "  io.imsave(f'{net_name}-{name}.png',I)\n",
            "Lossy conversion from int64 to uint8. Range [0, 255]. Convert image to uint8 prior to saving to suppress this warning.\n",
            "69it [00:10,  7.14it/s]/var/folders/t6/ntsczqdj1036typ96jgly34m0000gn/T/ipykernel_63371/3708903272.py:17: UserWarning: FC-Siam-diff-test00070.png.png is a low contrast image\n",
            "  io.imsave(f'{net_name}-{name}.png',I)\n",
            "Lossy conversion from int64 to uint8. Range [0, 255]. Convert image to uint8 prior to saving to suppress this warning.\n",
            "70it [00:10,  7.12it/s]/var/folders/t6/ntsczqdj1036typ96jgly34m0000gn/T/ipykernel_63371/3708903272.py:17: UserWarning: FC-Siam-diff-test00071.png.png is a low contrast image\n",
            "  io.imsave(f'{net_name}-{name}.png',I)\n",
            "Lossy conversion from int64 to uint8. Range [0, 255]. Convert image to uint8 prior to saving to suppress this warning.\n",
            "71it [00:10,  7.21it/s]/var/folders/t6/ntsczqdj1036typ96jgly34m0000gn/T/ipykernel_63371/3708903272.py:17: UserWarning: FC-Siam-diff-test00072.png.png is a low contrast image\n",
            "  io.imsave(f'{net_name}-{name}.png',I)\n",
            "Lossy conversion from int64 to uint8. Range [0, 255]. Convert image to uint8 prior to saving to suppress this warning.\n",
            "72it [00:10,  7.06it/s]/var/folders/t6/ntsczqdj1036typ96jgly34m0000gn/T/ipykernel_63371/3708903272.py:17: UserWarning: FC-Siam-diff-test00073.png.png is a low contrast image\n",
            "  io.imsave(f'{net_name}-{name}.png',I)\n",
            "Lossy conversion from int64 to uint8. Range [0, 255]. Convert image to uint8 prior to saving to suppress this warning.\n",
            "73it [00:10,  7.05it/s]/var/folders/t6/ntsczqdj1036typ96jgly34m0000gn/T/ipykernel_63371/3708903272.py:17: UserWarning: FC-Siam-diff-test00074.png.png is a low contrast image\n",
            "  io.imsave(f'{net_name}-{name}.png',I)\n",
            "Lossy conversion from int64 to uint8. Range [0, 255]. Convert image to uint8 prior to saving to suppress this warning.\n",
            "74it [00:10,  7.13it/s]/var/folders/t6/ntsczqdj1036typ96jgly34m0000gn/T/ipykernel_63371/3708903272.py:17: UserWarning: FC-Siam-diff-test00075.png.png is a low contrast image\n",
            "  io.imsave(f'{net_name}-{name}.png',I)\n",
            "Lossy conversion from int64 to uint8. Range [0, 255]. Convert image to uint8 prior to saving to suppress this warning.\n",
            "75it [00:10,  7.14it/s]/var/folders/t6/ntsczqdj1036typ96jgly34m0000gn/T/ipykernel_63371/3708903272.py:17: UserWarning: FC-Siam-diff-test00076.png.png is a low contrast image\n",
            "  io.imsave(f'{net_name}-{name}.png',I)\n",
            "Lossy conversion from int64 to uint8. Range [0, 255]. Convert image to uint8 prior to saving to suppress this warning.\n",
            "76it [00:11,  6.88it/s]/var/folders/t6/ntsczqdj1036typ96jgly34m0000gn/T/ipykernel_63371/3708903272.py:17: UserWarning: FC-Siam-diff-test00077.png.png is a low contrast image\n",
            "  io.imsave(f'{net_name}-{name}.png',I)\n",
            "Lossy conversion from int64 to uint8. Range [0, 255]. Convert image to uint8 prior to saving to suppress this warning.\n",
            "77it [00:11,  6.93it/s]/var/folders/t6/ntsczqdj1036typ96jgly34m0000gn/T/ipykernel_63371/3708903272.py:17: UserWarning: FC-Siam-diff-test00078.png.png is a low contrast image\n",
            "  io.imsave(f'{net_name}-{name}.png',I)\n",
            "Lossy conversion from int64 to uint8. Range [0, 255]. Convert image to uint8 prior to saving to suppress this warning.\n",
            "78it [00:11,  6.93it/s]/var/folders/t6/ntsczqdj1036typ96jgly34m0000gn/T/ipykernel_63371/3708903272.py:17: UserWarning: FC-Siam-diff-test00079.png.png is a low contrast image\n",
            "  io.imsave(f'{net_name}-{name}.png',I)\n",
            "Lossy conversion from int64 to uint8. Range [0, 255]. Convert image to uint8 prior to saving to suppress this warning.\n",
            "79it [00:11,  6.60it/s]/var/folders/t6/ntsczqdj1036typ96jgly34m0000gn/T/ipykernel_63371/3708903272.py:17: UserWarning: FC-Siam-diff-test00080.png.png is a low contrast image\n",
            "  io.imsave(f'{net_name}-{name}.png',I)\n",
            "Lossy conversion from int64 to uint8. Range [0, 255]. Convert image to uint8 prior to saving to suppress this warning.\n",
            "80it [00:11,  6.61it/s]/var/folders/t6/ntsczqdj1036typ96jgly34m0000gn/T/ipykernel_63371/3708903272.py:17: UserWarning: FC-Siam-diff-test00081.png.png is a low contrast image\n",
            "  io.imsave(f'{net_name}-{name}.png',I)\n",
            "Lossy conversion from int64 to uint8. Range [0, 255]. Convert image to uint8 prior to saving to suppress this warning.\n",
            "81it [00:11,  6.14it/s]/var/folders/t6/ntsczqdj1036typ96jgly34m0000gn/T/ipykernel_63371/3708903272.py:17: UserWarning: FC-Siam-diff-test00082.png.png is a low contrast image\n",
            "  io.imsave(f'{net_name}-{name}.png',I)\n",
            "Lossy conversion from int64 to uint8. Range [0, 255]. Convert image to uint8 prior to saving to suppress this warning.\n",
            "82it [00:11,  6.46it/s]/var/folders/t6/ntsczqdj1036typ96jgly34m0000gn/T/ipykernel_63371/3708903272.py:17: UserWarning: FC-Siam-diff-test00083.png.png is a low contrast image\n",
            "  io.imsave(f'{net_name}-{name}.png',I)\n",
            "Lossy conversion from int64 to uint8. Range [0, 255]. Convert image to uint8 prior to saving to suppress this warning.\n",
            "83it [00:12,  6.82it/s]/var/folders/t6/ntsczqdj1036typ96jgly34m0000gn/T/ipykernel_63371/3708903272.py:17: UserWarning: FC-Siam-diff-test00084.png.png is a low contrast image\n",
            "  io.imsave(f'{net_name}-{name}.png',I)\n",
            "Lossy conversion from int64 to uint8. Range [0, 255]. Convert image to uint8 prior to saving to suppress this warning.\n",
            "84it [00:12,  6.85it/s]/var/folders/t6/ntsczqdj1036typ96jgly34m0000gn/T/ipykernel_63371/3708903272.py:17: UserWarning: FC-Siam-diff-test00085.png.png is a low contrast image\n",
            "  io.imsave(f'{net_name}-{name}.png',I)\n",
            "Lossy conversion from int64 to uint8. Range [0, 255]. Convert image to uint8 prior to saving to suppress this warning.\n",
            "85it [00:12,  6.99it/s]/var/folders/t6/ntsczqdj1036typ96jgly34m0000gn/T/ipykernel_63371/3708903272.py:17: UserWarning: FC-Siam-diff-test00086.png.png is a low contrast image\n",
            "  io.imsave(f'{net_name}-{name}.png',I)\n",
            "Lossy conversion from int64 to uint8. Range [0, 255]. Convert image to uint8 prior to saving to suppress this warning.\n",
            "86it [00:12,  6.88it/s]/var/folders/t6/ntsczqdj1036typ96jgly34m0000gn/T/ipykernel_63371/3708903272.py:17: UserWarning: FC-Siam-diff-test00087.png.png is a low contrast image\n",
            "  io.imsave(f'{net_name}-{name}.png',I)\n",
            "Lossy conversion from int64 to uint8. Range [0, 255]. Convert image to uint8 prior to saving to suppress this warning.\n",
            "87it [00:12,  6.81it/s]/var/folders/t6/ntsczqdj1036typ96jgly34m0000gn/T/ipykernel_63371/3708903272.py:17: UserWarning: FC-Siam-diff-test00088.png.png is a low contrast image\n",
            "  io.imsave(f'{net_name}-{name}.png',I)\n",
            "Lossy conversion from int64 to uint8. Range [0, 255]. Convert image to uint8 prior to saving to suppress this warning.\n",
            "88it [00:12,  6.76it/s]/var/folders/t6/ntsczqdj1036typ96jgly34m0000gn/T/ipykernel_63371/3708903272.py:17: UserWarning: FC-Siam-diff-test00089.png.png is a low contrast image\n",
            "  io.imsave(f'{net_name}-{name}.png',I)\n",
            "Lossy conversion from int64 to uint8. Range [0, 255]. Convert image to uint8 prior to saving to suppress this warning.\n",
            "89it [00:12,  6.95it/s]/var/folders/t6/ntsczqdj1036typ96jgly34m0000gn/T/ipykernel_63371/3708903272.py:17: UserWarning: FC-Siam-diff-test00090.png.png is a low contrast image\n",
            "  io.imsave(f'{net_name}-{name}.png',I)\n",
            "Lossy conversion from int64 to uint8. Range [0, 255]. Convert image to uint8 prior to saving to suppress this warning.\n",
            "90it [00:13,  7.06it/s]/var/folders/t6/ntsczqdj1036typ96jgly34m0000gn/T/ipykernel_63371/3708903272.py:17: UserWarning: FC-Siam-diff-test00091.png.png is a low contrast image\n",
            "  io.imsave(f'{net_name}-{name}.png',I)\n",
            "Lossy conversion from int64 to uint8. Range [0, 255]. Convert image to uint8 prior to saving to suppress this warning.\n",
            "91it [00:13,  7.15it/s]/var/folders/t6/ntsczqdj1036typ96jgly34m0000gn/T/ipykernel_63371/3708903272.py:17: UserWarning: FC-Siam-diff-test00092.png.png is a low contrast image\n",
            "  io.imsave(f'{net_name}-{name}.png',I)\n",
            "Lossy conversion from int64 to uint8. Range [0, 255]. Convert image to uint8 prior to saving to suppress this warning.\n",
            "92it [00:13,  7.14it/s]/var/folders/t6/ntsczqdj1036typ96jgly34m0000gn/T/ipykernel_63371/3708903272.py:17: UserWarning: FC-Siam-diff-test00093.png.png is a low contrast image\n",
            "  io.imsave(f'{net_name}-{name}.png',I)\n",
            "Lossy conversion from int64 to uint8. Range [0, 255]. Convert image to uint8 prior to saving to suppress this warning.\n",
            "93it [00:13,  7.34it/s]/var/folders/t6/ntsczqdj1036typ96jgly34m0000gn/T/ipykernel_63371/3708903272.py:17: UserWarning: FC-Siam-diff-test00094.png.png is a low contrast image\n",
            "  io.imsave(f'{net_name}-{name}.png',I)\n",
            "Lossy conversion from int64 to uint8. Range [0, 255]. Convert image to uint8 prior to saving to suppress this warning.\n",
            "94it [00:13,  6.94it/s]/var/folders/t6/ntsczqdj1036typ96jgly34m0000gn/T/ipykernel_63371/3708903272.py:17: UserWarning: FC-Siam-diff-test00095.png.png is a low contrast image\n",
            "  io.imsave(f'{net_name}-{name}.png',I)\n",
            "Lossy conversion from int64 to uint8. Range [0, 255]. Convert image to uint8 prior to saving to suppress this warning.\n",
            "95it [00:13,  6.99it/s]/var/folders/t6/ntsczqdj1036typ96jgly34m0000gn/T/ipykernel_63371/3708903272.py:17: UserWarning: FC-Siam-diff-test00096.png.png is a low contrast image\n",
            "  io.imsave(f'{net_name}-{name}.png',I)\n",
            "Lossy conversion from int64 to uint8. Range [0, 255]. Convert image to uint8 prior to saving to suppress this warning.\n",
            "96it [00:13,  6.82it/s]/var/folders/t6/ntsczqdj1036typ96jgly34m0000gn/T/ipykernel_63371/3708903272.py:17: UserWarning: FC-Siam-diff-test00097.png.png is a low contrast image\n",
            "  io.imsave(f'{net_name}-{name}.png',I)\n",
            "Lossy conversion from int64 to uint8. Range [0, 255]. Convert image to uint8 prior to saving to suppress this warning.\n",
            "97it [00:14,  6.95it/s]/var/folders/t6/ntsczqdj1036typ96jgly34m0000gn/T/ipykernel_63371/3708903272.py:17: UserWarning: FC-Siam-diff-test00098.png.png is a low contrast image\n",
            "  io.imsave(f'{net_name}-{name}.png',I)\n",
            "Lossy conversion from int64 to uint8. Range [0, 255]. Convert image to uint8 prior to saving to suppress this warning.\n",
            "98it [00:14,  7.09it/s]/var/folders/t6/ntsczqdj1036typ96jgly34m0000gn/T/ipykernel_63371/3708903272.py:17: UserWarning: FC-Siam-diff-test00099.png.png is a low contrast image\n",
            "  io.imsave(f'{net_name}-{name}.png',I)\n",
            "Lossy conversion from int64 to uint8. Range [0, 255]. Convert image to uint8 prior to saving to suppress this warning.\n",
            "99it [00:14,  6.88it/s]"
          ]
        },
        {
          "name": "stdout",
          "output_type": "stream",
          "text": [
            "Elapsed time: 14.39257001876831\n"
          ]
        },
        {
          "name": "stderr",
          "output_type": "stream",
          "text": [
            "\n"
          ]
        }
      ],
      "source": [
        "# Test\n",
        "def save_test_results(dset):\n",
        "    for idx, name in tqdm(dset.names.iterrows()):\n",
        "        name = name[0]\n",
        "        with warnings.catch_warnings():\n",
        "            I1, I2, cm = dset.get_img(name)\n",
        "            I1 = Variable(torch.unsqueeze(I1, 0).float())\n",
        "            I2 = Variable(torch.unsqueeze(I2, 0).float())\n",
        "\n",
        "            if GPU_ENABLED:\n",
        "                I1 = I1.cuda()\n",
        "                I2 = I2.cuda()\n",
        "\n",
        "            out = net(I1, I2)\n",
        "            _, predicted = torch.max(out.data, 1)\n",
        "            I = np.stack((255*cm,255*np.squeeze(predicted.cpu().numpy()),255*cm),2)\n",
        "            io.imsave(f'{net_name}-{name}.png',I)\n",
        "\n",
        "t_start = time.time()\n",
        "save_test_results(test_dataset)\n",
        "t_end = time.time()\n",
        "print('Elapsed time: {}'.format(t_end - t_start))\n"
      ]
    },
    {
      "cell_type": "code",
      "execution_count": null,
      "metadata": {
        "colab": {
          "base_uri": "https://localhost:8080/",
          "height": 398
        },
        "id": "tD4xuXfSFgJc",
        "outputId": "d0184bcd-78f6-4ca6-f1c1-5c2811a318ec"
      },
      "outputs": [
        {
          "name": "stderr",
          "output_type": "stream",
          "text": [
            "99it [00:46,  2.15it/s]"
          ]
        },
        {
          "name": "stdout",
          "output_type": "stream",
          "text": [
            "{'class_accuracy': [99.84994506835938, 8.30510139465332],\n",
            " 'dice': 0.15231818204792544,\n",
            " 'kappa': 0.12803698515105952,\n",
            " 'net_accuracy': 84.49031945430872,\n",
            " 'net_loss': 0.3434380292892456,\n",
            " 'precision': 0.9177545426860217,\n",
            " 'recall': 0.08305100938466853}\n"
          ]
        },
        {
          "name": "stderr",
          "output_type": "stream",
          "text": [
            "\n"
          ]
        }
      ],
      "source": [
        "results = model.evaluate(test_dataset)\n",
        "pprint(results)"
      ]
    },
    {
      "cell_type": "code",
      "execution_count": 12,
      "metadata": {},
      "outputs": [
        {
          "name": "stdout",
          "output_type": "stream",
          "text": [
            "{'class_accuracy': [99.84994506835938, 8.30510139465332],\n",
            " 'dice': 0.15231818204792544,\n",
            " 'kappa': 0.12803698515105952,\n",
            " 'net_accuracy': 84.49031945430872,\n",
            " 'net_loss': 0.3434380292892456,\n",
            " 'precision': 0.9177545426860217,\n",
            " 'recall': 0.08305100938466853}\n"
          ]
        }
      ],
      "source": [
        "pprint(results)"
      ]
    }
  ],
  "metadata": {
    "accelerator": "GPU",
    "colab": {
      "provenance": []
    },
    "gpuClass": "standard",
    "kernelspec": {
      "display_name": "Python 3",
      "language": "python",
      "name": "python3"
    },
    "language_info": {
      "codemirror_mode": {
        "name": "ipython",
        "version": 3
      },
      "file_extension": ".py",
      "mimetype": "text/x-python",
      "name": "python",
      "nbconvert_exporter": "python",
      "pygments_lexer": "ipython3",
      "version": "3.10.11"
    }
  },
  "nbformat": 4,
  "nbformat_minor": 0
}
