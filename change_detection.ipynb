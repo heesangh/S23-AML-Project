{
 "cells": [
  {
   "cell_type": "code",
   "execution_count": 1,
   "metadata": {
    "colab": {
     "base_uri": "https://localhost:8080/"
    },
    "id": "OdvBn0KMFgJO",
    "outputId": "0b6a5950-7049-4c2d-ea33-dff434872327",
    "ExecuteTime": {
     "start_time": "2023-04-26T07:37:07.540925Z",
     "end_time": "2023-04-26T07:37:09.509401Z"
    }
   },
   "outputs": [],
   "source": [
    "# Imports\n",
    "\n",
    "# PyTorch\n",
    "import torch\n",
    "import torch.nn as nn\n",
    "from torch.utils.data import DataLoader\n",
    "from torch.autograd import Variable\n",
    "import torchvision.transforms as tr\n",
    "from model.change_detction_dataset import ChangeDetectionDataset, RandomFlip, RandomRot\n",
    "\n",
    "# Models\n",
    "from model.unet import Unet\n",
    "from model.siamunet_conc import SiamUnet_conc\n",
    "from model.siamunet_diff import SiamUnet_diff\n",
    "from model.fresunet import FresUNet\n",
    "from model.model import Model, ModelConfig\n",
    "\n",
    "# Other\n",
    "import numpy as np\n",
    "from skimage import io\n",
    "\n",
    "%matplotlib inline\n",
    "from tqdm import tqdm as tqdm\n",
    "import time\n",
    "import warnings\n",
    "from pprint import pprint\n"
   ]
  },
  {
   "cell_type": "code",
   "execution_count": 2,
   "metadata": {
    "colab": {
     "base_uri": "https://localhost:8080/"
    },
    "id": "134LZ1yhFgJR",
    "outputId": "aa18d84d-d235-4753-dff7-97581bca9d31",
    "ExecuteTime": {
     "start_time": "2023-04-26T07:37:09.555359Z",
     "end_time": "2023-04-26T07:37:09.556736Z"
    }
   },
   "outputs": [],
   "source": [
    "# Global Variables' Definitions\n",
    "PATH_TO_DATASET = './dataset-lite/'\n",
    "MODEL_TYPE = 1 # 0-FC-EF | 1-FC-Siam-diff | 2-FC-Siam-conc | 3-FresUNet\n",
    "GPU_ENABLED = torch.cuda.is_available()\n",
    "LOAD_TRAINED = False\n",
    "\n",
    "\n",
    "#Cofniguration\n",
    "DATA_AUG = True\n",
    "BATCH_SIZE = 32\n",
    "PATCH_SIDE = 96\n",
    "N_EPOCHS = 50\n",
    "NORMALISE_IMGS = True\n",
    "TRAIN_STRIDE = int(PATCH_SIDE/2) - 1"
   ]
  },
  {
   "cell_type": "code",
   "execution_count": 3,
   "metadata": {
    "colab": {
     "base_uri": "https://localhost:8080/"
    },
    "id": "xRZI66fGFgJV",
    "outputId": "62c40c09-0518-4830-fa2d-0ddf76c69a93",
    "ExecuteTime": {
     "start_time": "2023-04-26T07:37:09.559597Z",
     "end_time": "2023-04-26T07:37:49.684573Z"
    }
   },
   "outputs": [
    {
     "name": "stderr",
     "output_type": "stream",
     "text": [
      "4999it [00:35, 140.84it/s]\n"
     ]
    },
    {
     "name": "stdout",
     "output_type": "stream",
     "text": [
      "GPU ENABLED\n"
     ]
    },
    {
     "name": "stderr",
     "output_type": "stream",
     "text": [
      "499it [00:03, 136.40it/s]\n"
     ]
    }
   ],
   "source": [
    "# Dataset\n",
    "if DATA_AUG:\n",
    "    data_transform = tr.Compose([RandomFlip(), RandomRot()])\n",
    "else:\n",
    "    data_transform = None\n",
    "\n",
    "\n",
    "train_dataset = ChangeDetectionDataset(PATH_TO_DATASET, train = True, stride = TRAIN_STRIDE, transform=data_transform)\n",
    "weights = torch.FloatTensor(train_dataset.weights)\n",
    "if GPU_ENABLED:\n",
    "  print(f'GPU ENABLED')\n",
    "  weights = weights.cuda()\n",
    "  \n",
    "train_loader = DataLoader(train_dataset, batch_size = BATCH_SIZE, shuffle = True, num_workers = 4)\n",
    "test_dataset = ChangeDetectionDataset(PATH_TO_DATASET, train = False, stride = TRAIN_STRIDE)\n",
    "test_loader = DataLoader(test_dataset, batch_size = BATCH_SIZE, shuffle = True, num_workers = 4)\n",
    "\n"
   ]
  },
  {
   "cell_type": "code",
   "execution_count": 4,
   "metadata": {
    "colab": {
     "base_uri": "https://localhost:8080/"
    },
    "id": "Lr88HmjBFgJX",
    "outputId": "e75bcb50-1495-4304-e803-d2ae3ecec792",
    "ExecuteTime": {
     "start_time": "2023-04-26T07:37:49.684367Z",
     "end_time": "2023-04-26T07:37:49.728008Z"
    }
   },
   "outputs": [],
   "source": [
    "# 0-FC-EF | 1-FC-Siam-diff | 2-FC-Siam-conc | 3-FresUNet\n",
    "if MODEL_TYPE == 0:\n",
    "    net, net_name = Unet(2*3, 2), 'FC-EF'\n",
    "elif MODEL_TYPE == 1:\n",
    "    net, net_name = SiamUnet_diff(3, 2), 'FC-Siam-diff'\n",
    "elif MODEL_TYPE == 2:\n",
    "    net, net_name = SiamUnet_conc(3, 2), 'FC-Siam-conc'\n",
    "elif MODEL_TYPE == 3:\n",
    "    net, net_name = FresUNet(2*3, 2), 'FresUNet'\n",
    "\n",
    "if GPU_ENABLED:\n",
    "    net.cuda()\n",
    "\n",
    "criterion = nn.NLLLoss(weight=weights) # to be used with logsoftmax output"
   ]
  },
  {
   "cell_type": "code",
   "execution_count": 5,
   "metadata": {
    "colab": {
     "base_uri": "https://localhost:8080/"
    },
    "id": "6lE3ixBWFgJY",
    "outputId": "e0c0c462-c168-459c-b371-44a30a254cc4",
    "ExecuteTime": {
     "start_time": "2023-04-26T07:37:49.728154Z",
     "end_time": "2023-04-26T07:37:49.728445Z"
    }
   },
   "outputs": [
    {
     "name": "stdout",
     "output_type": "stream",
     "text": [
      "Number of trainable parameters: 1350146\n"
     ]
    }
   ],
   "source": [
    "def count_parameters(model):\n",
    "    return sum(p.numel() for p in model.parameters() if p.requires_grad)\n",
    "\n",
    "print('Number of trainable parameters:', count_parameters(net))"
   ]
  },
  {
   "cell_type": "code",
   "execution_count": 6,
   "metadata": {
    "id": "QMIQufikFgJZ",
    "ExecuteTime": {
     "start_time": "2023-04-26T07:37:49.728390Z",
     "end_time": "2023-04-26T07:37:49.728664Z"
    }
   },
   "outputs": [],
   "source": [
    "model_config = ModelConfig(n_epochs=N_EPOCHS, gpu_enabled=GPU_ENABLED)\n",
    "model = Model(\n",
    "    model=net,\n",
    "    model_name=net_name,\n",
    "    config=model_config,\n",
    "    train_dataset=train_dataset,\n",
    "    train_loader=train_loader,\n",
    "    test_dataset=test_dataset,\n",
    "    criterion=criterion,\n",
    ")"
   ]
  },
  {
   "cell_type": "code",
   "execution_count": null,
   "metadata": {
    "ExecuteTime": {
     "start_time": "2023-04-26T01:42:43.897266Z",
     "end_time": "2023-04-26T07:15:55.691332Z"
    },
    "pycharm": {
     "is_executing": true
    }
   },
   "outputs": [
    {
     "data": {
      "text/plain": "  0%|          | 0/50 [00:00<?, ?it/s]",
      "application/vnd.jupyter.widget-view+json": {
       "version_major": 2,
       "version_minor": 0,
       "model_id": "134028d6453e4a07bcbc53d45f9ae7e6"
      }
     },
     "metadata": {},
     "output_type": "display_data"
    },
    {
     "name": "stdout",
     "output_type": "stream",
     "text": [
      "Epoch: 1 of 50\n"
     ]
    },
    {
     "data": {
      "text/plain": "  0%|          | 0/2500 [00:00<?, ?it/s]",
      "application/vnd.jupyter.widget-view+json": {
       "version_major": 2,
       "version_minor": 0,
       "model_id": "ca56e12eb3e24aaab27c3865dd7b11e6"
      }
     },
     "metadata": {},
     "output_type": "display_data"
    },
    {
     "name": "stdout",
     "output_type": "stream",
     "text": [
      "Epoch: 2 of 50\n"
     ]
    },
    {
     "data": {
      "text/plain": "  0%|          | 0/2500 [00:00<?, ?it/s]",
      "application/vnd.jupyter.widget-view+json": {
       "version_major": 2,
       "version_minor": 0,
       "model_id": "0763ae6c1f7345b5876504a644a52afc"
      }
     },
     "metadata": {},
     "output_type": "display_data"
    },
    {
     "name": "stdout",
     "output_type": "stream",
     "text": [
      "Epoch: 3 of 50\n"
     ]
    },
    {
     "data": {
      "text/plain": "  0%|          | 0/2500 [00:00<?, ?it/s]",
      "application/vnd.jupyter.widget-view+json": {
       "version_major": 2,
       "version_minor": 0,
       "model_id": "d49e5c6221af41499d90672684395592"
      }
     },
     "metadata": {},
     "output_type": "display_data"
    }
   ],
   "source": [
    "if LOAD_TRAINED:\n",
    "    net.load_state_dict(torch.load('net_final.pth.tar'))\n",
    "    print('LOAD OK')\n",
    "else:\n",
    "    t_start = time.time()\n",
    "    out_dic = model.train()\n",
    "    t_end = time.time()\n",
    "    print(out_dic)\n",
    "    print('Elapsed time:')\n",
    "    print(t_end - t_start)"
   ]
  },
  {
   "cell_type": "code",
   "execution_count": null,
   "metadata": {
    "id": "f77Nz5HPFgJa",
    "ExecuteTime": {
     "start_time": "2023-04-26T01:41:27.509740Z",
     "end_time": "2023-04-26T07:15:55.736554Z"
    },
    "pycharm": {
     "is_executing": true
    }
   },
   "outputs": [],
   "source": [
    "if not LOAD_TRAINED:\n",
    "    torch.save(model.model.state_dict(), 'net_final.pth.tar')\n",
    "    print('SAVE OK')"
   ]
  },
  {
   "cell_type": "code",
   "execution_count": null,
   "metadata": {
    "id": "lpK78RwyFgJb",
    "ExecuteTime": {
     "start_time": "2023-04-26T01:41:27.509802Z",
     "end_time": "2023-04-26T07:16:03.687664Z"
    },
    "pycharm": {
     "is_executing": true
    }
   },
   "outputs": [],
   "source": [
    "# Inference on test images\n",
    "def save_test_results(dset):\n",
    "    for idx, name in tqdm(dset.names.iterrows()):\n",
    "        name = name[0]\n",
    "        with warnings.catch_warnings():\n",
    "            I1, I2, cm = dset.get_img(name)\n",
    "            I1 = Variable(torch.unsqueeze(I1, 0).float())\n",
    "            I2 = Variable(torch.unsqueeze(I2, 0).float())\n",
    "\n",
    "            if GPU_ENABLED:\n",
    "                I1 = I1.cuda()\n",
    "                I2 = I2.cuda()\n",
    "\n",
    "            out = net(I1, I2)\n",
    "            _, predicted = torch.max(out.data, 1)\n",
    "            I = np.stack((255*cm,255*np.squeeze(predicted.cpu().numpy()),255*cm),2)\n",
    "            I = I.astype(np.uint8)\n",
    "            io.imsave(f'{net_name}-{name}',I, check_contrast=False)\n",
    "\n",
    "t_start = time.time()\n",
    "save_test_results(test_dataset)\n",
    "t_end = time.time()\n",
    "print('Elapsed time: {}'.format(t_end - t_start))\n"
   ]
  },
  {
   "cell_type": "code",
   "execution_count": null,
   "metadata": {
    "colab": {
     "base_uri": "https://localhost:8080/",
     "height": 398
    },
    "id": "tD4xuXfSFgJc",
    "outputId": "d0184bcd-78f6-4ca6-f1c1-5c2811a318ec",
    "pycharm": {
     "is_executing": true
    }
   },
   "outputs": [],
   "source": [
    "results_train = model.evaluate(train_dataset)\n",
    "results_test = model.evaluate(test_dataset)"
   ]
  },
  {
   "cell_type": "code",
   "execution_count": null,
   "metadata": {
    "pycharm": {
     "is_executing": true
    }
   },
   "outputs": [],
   "source": [
    "print('Train Performance:')\n",
    "print(results_train)\n",
    "print('Test Performance:')\n",
    "print(results_test)"
   ]
  }
 ],
 "metadata": {
  "accelerator": "GPU",
  "colab": {
   "provenance": []
  },
  "gpuClass": "standard",
  "kernelspec": {
   "display_name": "Python 3",
   "language": "python",
   "name": "python3"
  },
  "language_info": {
   "codemirror_mode": {
    "name": "ipython",
    "version": 3
   },
   "file_extension": ".py",
   "mimetype": "text/x-python",
   "name": "python",
   "nbconvert_exporter": "python",
   "pygments_lexer": "ipython3",
   "version": "3.11.2"
  }
 },
 "nbformat": 4,
 "nbformat_minor": 0
}
