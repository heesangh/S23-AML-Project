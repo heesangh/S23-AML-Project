{
  "cells": [
    {
      "cell_type": "code",
      "execution_count": 2,
      "metadata": {
        "colab": {
          "base_uri": "https://localhost:8080/"
        },
        "id": "OdvBn0KMFgJO",
        "outputId": "0b6a5950-7049-4c2d-ea33-dff434872327"
      },
      "outputs": [
        {
          "name": "stdout",
          "output_type": "stream",
          "text": [
            "IMPORTS OK\n"
          ]
        }
      ],
      "source": [
        "# Imports\n",
        "\n",
        "# PyTorch\n",
        "import torch\n",
        "import torch.nn as nn\n",
        "from torch.utils.data import DataLoader\n",
        "from torch.autograd import Variable\n",
        "import torchvision.transforms as tr\n",
        "from model.change_detction_dataset import ChangeDetectionDataset, RandomFlip, RandomRot\n",
        "\n",
        "# Models\n",
        "from model.unet import Unet\n",
        "from model.siamunet_conc import SiamUnet_conc\n",
        "from model.siamunet_diff import SiamUnet_diff\n",
        "from model.fresunet import FresUNet\n",
        "from model.model import Model, ModelConfig\n",
        "\n",
        "# Other\n",
        "import numpy as np\n",
        "from skimage import io\n",
        "\n",
        "%matplotlib inline\n",
        "from tqdm import tqdm as tqdm\n",
        "import time\n",
        "import warnings\n",
        "from pprint import pprint\n"
      ]
    },
    {
      "cell_type": "code",
      "execution_count": 3,
      "metadata": {
        "colab": {
          "base_uri": "https://localhost:8080/"
        },
        "id": "134LZ1yhFgJR",
        "outputId": "aa18d84d-d235-4753-dff7-97581bca9d31"
      },
      "outputs": [],
      "source": [
        "# Global Variables' Definitions\n",
        "PATH_TO_DATASET = './dataset-lite/'\n",
        "MODEL_TYPE = 0 # 0-FC-EF | 1-FC-Siam-diff | 2-FC-Siam-conc | 3-FresUNet\n",
        "GPU_ENABLED = True\n",
        "LOAD_TRAINED = False\n",
        "\n",
        "\n",
        "#Cofniguration\n",
        "DATA_AUG = True\n",
        "BATCH_SIZE = 32\n",
        "PATCH_SIDE = 96\n",
        "N_EPOCHS = 50\n",
        "NORMALISE_IMGS = True\n",
        "TRAIN_STRIDE = int(PATCH_SIDE/2) - 1"
      ]
    },
    {
      "cell_type": "code",
      "execution_count": 4,
      "metadata": {
        "colab": {
          "base_uri": "https://localhost:8080/"
        },
        "id": "xRZI66fGFgJV",
        "outputId": "62c40c09-0518-4830-fa2d-0ddf76c69a93"
      },
      "outputs": [
        {
          "name": "stderr",
          "output_type": "stream",
          "text": [
            "499it [00:03, 135.04it/s]\n",
            "99it [00:00, 122.27it/s]\n"
          ]
        }
      ],
      "source": [
        "# Dataset\n",
        "if DATA_AUG:\n",
        "    data_transform = tr.Compose([RandomFlip(), RandomRot()])\n",
        "else:\n",
        "    data_transform = None\n",
        "\n",
        "\n",
        "train_dataset = ChangeDetectionDataset(PATH_TO_DATASET, train = True, stride = TRAIN_STRIDE, transform=data_transform)\n",
        "weights = torch.FloatTensor(train_dataset.weights)\n",
        "if GPU_ENABLED:\n",
        "  weights = weights.cuda()\n",
        "  \n",
        "train_loader = DataLoader(train_dataset, batch_size = BATCH_SIZE, shuffle = True, num_workers = 4)\n",
        "test_dataset = ChangeDetectionDataset(PATH_TO_DATASET, train = False, stride = TRAIN_STRIDE)\n",
        "test_loader = DataLoader(test_dataset, batch_size = BATCH_SIZE, shuffle = True, num_workers = 4)\n",
        "\n"
      ]
    },
    {
      "cell_type": "code",
      "execution_count": 5,
      "metadata": {
        "colab": {
          "base_uri": "https://localhost:8080/"
        },
        "id": "Lr88HmjBFgJX",
        "outputId": "e75bcb50-1495-4304-e803-d2ae3ecec792"
      },
      "outputs": [],
      "source": [
        "# 0-FC-EF | 1-FC-Siam-diff | 2-FC-Siam-conc | 3-FresUNet\n",
        "if MODEL_TYPE == 0:\n",
        "    net, net_name = Unet(2*3, 2), 'FC-EF'\n",
        "elif MODEL_TYPE == 1:\n",
        "    net, net_name = SiamUnet_diff(3, 2), 'FC-Siam-diff'\n",
        "elif MODEL_TYPE == 2:\n",
        "    net, net_name = SiamUnet_conc(3, 2), 'FC-Siam-conc'\n",
        "elif MODEL_TYPE == 3:\n",
        "    net, net_name = FresUNet(2*3, 2), 'FresUNet'\n",
        "\n",
        "if GPU_ENABLED:\n",
        "    net.cuda()\n",
        "\n",
        "criterion = nn.NLLLoss(weight=weights) # to be used with logsoftmax output"
      ]
    },
    {
      "cell_type": "code",
      "execution_count": 6,
      "metadata": {
        "colab": {
          "base_uri": "https://localhost:8080/"
        },
        "id": "6lE3ixBWFgJY",
        "outputId": "e0c0c462-c168-459c-b371-44a30a254cc4"
      },
      "outputs": [
        {
          "name": "stdout",
          "output_type": "stream",
          "text": [
            "Number of trainable parameters: 1350578\n"
          ]
        }
      ],
      "source": [
        "def count_parameters(model):\n",
        "    return sum(p.numel() for p in model.parameters() if p.requires_grad)\n",
        "\n",
        "print('Number of trainable parameters:', count_parameters(net))"
      ]
    },
    {
      "cell_type": "code",
      "execution_count": 7,
      "metadata": {
        "id": "QMIQufikFgJZ"
      },
      "outputs": [],
      "source": [
        "model_config = ModelConfig(n_epochs=N_EPOCHS, gpu_enabled=GPU_ENABLED)\n",
        "model = Model(\n",
        "    model=net,\n",
        "    model_name=net_name,\n",
        "    config=model_config,\n",
        "    train_dataset=train_dataset,\n",
        "    train_loader=train_loader,\n",
        "    criterion=criterion,\n",
        ")"
      ]
    },
    {
      "cell_type": "code",
      "execution_count": null,
      "metadata": {},
      "outputs": [],
      "source": [
        "if LOAD_TRAINED:\n",
        "    net.load_state_dict(torch.load('net_final.pth.tar'))\n",
        "    print('LOAD OK')\n",
        "else:\n",
        "    t_start = time.time()\n",
        "    out_dic = model.train()\n",
        "    t_end = time.time()\n",
        "    print(out_dic)\n",
        "    print('Elapsed time:')\n",
        "    print(t_end - t_start)"
      ]
    },
    {
      "cell_type": "code",
      "execution_count": 12,
      "metadata": {
        "id": "f77Nz5HPFgJa"
      },
      "outputs": [
        {
          "name": "stdout",
          "output_type": "stream",
          "text": [
            "SAVE OK\n"
          ]
        }
      ],
      "source": [
        "if not LOAD_TRAINED:\n",
        "    torch.save(model.model.state_dict(), 'net_final.pth.tar')\n",
        "    print('SAVE OK')"
      ]
    },
    {
      "cell_type": "code",
      "execution_count": null,
      "metadata": {
        "id": "lpK78RwyFgJb"
      },
      "outputs": [],
      "source": [
        "# Test\n",
        "def save_test_results(dset):\n",
        "    for idx, name in tqdm(dset.names.iterrows()):\n",
        "        name = name[0]\n",
        "        with warnings.catch_warnings():\n",
        "            I1, I2, cm = dset.get_img(name)\n",
        "            I1 = Variable(torch.unsqueeze(I1, 0).float())\n",
        "            I2 = Variable(torch.unsqueeze(I2, 0).float())\n",
        "\n",
        "            if GPU_ENABLED:\n",
        "                I1 = I1.cuda()\n",
        "                I2 = I2.cuda()\n",
        "\n",
        "            out = net(I1, I2)\n",
        "            _, predicted = torch.max(out.data, 1)\n",
        "            I = np.stack((255*cm,255*np.squeeze(predicted.cpu().numpy()),255*cm),2)\n",
        "            io.imsave(f'{net_name}-{name}.png',I)\n",
        "\n",
        "t_start = time.time()\n",
        "save_test_results(test_dataset)\n",
        "t_end = time.time()\n",
        "print('Elapsed time: {}'.format(t_end - t_start))\n"
      ]
    },
    {
      "cell_type": "code",
      "execution_count": 20,
      "metadata": {
        "colab": {
          "base_uri": "https://localhost:8080/",
          "height": 398
        },
        "id": "tD4xuXfSFgJc",
        "outputId": "d0184bcd-78f6-4ca6-f1c1-5c2811a318ec"
      },
      "outputs": [
        {
          "name": "stderr",
          "output_type": "stream",
          "text": [
            "99it [00:42,  2.34it/s]"
          ]
        },
        {
          "name": "stdout",
          "output_type": "stream",
          "text": [
            "{'class_accuracy': [92.05508422851562, 73.4899673461914],\n",
            " 'dice': 0.6903788799293051,\n",
            " 'kappa': 0.6233562762255774,\n",
            " 'net_accuracy': 88.94018308080808,\n",
            " 'net_loss': 0.28815630078315735,\n",
            " 'precision': 0.6509441945542008,\n",
            " 'recall': 0.7348996494528672}\n"
          ]
        },
        {
          "name": "stderr",
          "output_type": "stream",
          "text": [
            "\n"
          ]
        }
      ],
      "source": [
        "results = model.evaluate(test_dataset)\n",
        "pprint(results)"
      ]
    }
  ],
  "metadata": {
    "accelerator": "GPU",
    "colab": {
      "provenance": []
    },
    "gpuClass": "standard",
    "kernelspec": {
      "display_name": "Python 3",
      "language": "python",
      "name": "python3"
    },
    "language_info": {
      "codemirror_mode": {
        "name": "ipython",
        "version": 3
      },
      "file_extension": ".py",
      "mimetype": "text/x-python",
      "name": "python",
      "nbconvert_exporter": "python",
      "pygments_lexer": "ipython3",
      "version": "3.11.2"
    }
  },
  "nbformat": 4,
  "nbformat_minor": 0
}
